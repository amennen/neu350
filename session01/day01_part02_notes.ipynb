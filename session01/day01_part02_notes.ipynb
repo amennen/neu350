{
 "cells": [
  {
   "cell_type": "markdown",
   "metadata": {},
   "source": [
    "# Session 1 (Part 2)\n"
   ]
  },
  {
   "cell_type": "markdown",
   "metadata": {},
   "source": [
    "## Importing Modules\n",
    "If vanilla python seems rather lackluster, that's because it is. Fortunately, the scientific stack adds a broad and powerful array of python packages fill in the gaps. Once installed, packages in python are easily loaded for use."
   ]
  },
  {
   "cell_type": "code",
   "execution_count": 1,
   "metadata": {},
   "outputs": [
    {
     "name": "stdout",
     "output_type": "stream",
     "text": [
      "1.18.1\n"
     ]
    }
   ],
   "source": [
    "import numpy as np\n",
    "print(np.__version__)"
   ]
  },
  {
   "cell_type": "markdown",
   "metadata": {},
   "source": [
    "Commands from packages are like attributes of objects. For convenience, we will import packages using shorthand."
   ]
  },
  {
   "cell_type": "markdown",
   "metadata": {},
   "source": [
    "## NumPy Arrays\n",
    "Arrays are the most basic type of the NumPy package. NumPy arrays are vectors (Nx1), similar to pythonic lists. In contrast to lists, however, arrays have many more attributes and can be modified in substantially more ways. Several examples are provided below demonstrating the improvement of arrays over lists.\n",
    "\n",
    "In contrast, NumPy arrays can be modified in this way. We use the `np.arange` command to initialize an array of sequential integers."
   ]
  },
  {
   "cell_type": "code",
   "execution_count": 2,
   "metadata": {},
   "outputs": [
    {
     "name": "stdout",
     "output_type": "stream",
     "text": [
      "[0 1 2 3 4] <class 'numpy.ndarray'>\n",
      "[ 0  3  6  9 12]\n",
      "[ 0  1  4  9 16]\n"
     ]
    }
   ],
   "source": [
    "arr = np.arange(5)\n",
    "\n",
    "print(arr, type(arr))\n",
    "print(arr * 3)\n",
    "print(arr * arr)"
   ]
  },
  {
   "cell_type": "markdown",
   "metadata": {},
   "source": [
    "Every array has an object type. These can be looked up and modified."
   ]
  },
  {
   "cell_type": "code",
   "execution_count": 3,
   "metadata": {},
   "outputs": [
    {
     "name": "stdout",
     "output_type": "stream",
     "text": [
      "[0 1 2 3 4] int64\n",
      "[0. 1. 2. 3. 4.] float64\n"
     ]
    }
   ],
   "source": [
    "print(arr, arr.dtype)   # Print current datatype.\n",
    "arr = arr.astype(float) # Conver to float.\n",
    "print(arr, arr.dtype)   # Print new datatype."
   ]
  },
  {
   "cell_type": "markdown",
   "metadata": {},
   "source": [
    "Numpy arrays store metadata about their contents. These can be helpful, especially the **shape** atribute."
   ]
  },
  {
   "cell_type": "code",
   "execution_count": 4,
   "metadata": {},
   "outputs": [
    {
     "name": "stdout",
     "output_type": "stream",
     "text": [
      "Array shape: (5,)\n",
      "Array size: 5\n"
     ]
    }
   ],
   "source": [
    "print('Array shape:', arr.shape) # Print shape of array.\n",
    "print('Array size:', arr.size)  # Print number of total elements."
   ]
  },
  {
   "cell_type": "markdown",
   "metadata": {},
   "source": [
    "Accessing elements is easy."
   ]
  },
  {
   "cell_type": "code",
   "execution_count": 5,
   "metadata": {},
   "outputs": [
    {
     "name": "stdout",
     "output_type": "stream",
     "text": [
      "[0. 1.]\n",
      "[1. 3. 4.]\n"
     ]
    }
   ],
   "source": [
    "print(arr[:2])\n",
    "print(arr[[1,3,4]])"
   ]
  },
  {
   "cell_type": "markdown",
   "metadata": {},
   "source": [
    "Arrays now have a number of other built-in attributes \n",
    "not available for lists."
   ]
  },
  {
   "cell_type": "code",
   "execution_count": 6,
   "metadata": {},
   "outputs": [
    {
     "name": "stdout",
     "output_type": "stream",
     "text": [
      "Round: [0. 1. 2. 3. 4.]\n",
      "Min: 0.0\n",
      "Max: 4.0\n",
      "Sum: 10.0\n",
      "Mean: 2.0\n"
     ]
    }
   ],
   "source": [
    "print('Round:', arr.round()) # Round array.\n",
    "print('Min:', arr.min())     # Get max of array.\n",
    "print('Max:', arr.max())     # Get min of array.\n",
    "print('Sum:', arr.sum())     # Get sum of array.\n",
    "print('Mean:',arr.mean())    # Get mean of array."
   ]
  },
  {
   "cell_type": "markdown",
   "metadata": {},
   "source": [
    "## NumPy Matrices\n",
    "It is possible to represent matrices in pythonic lists, though it is inefficient. Similar to the benefits of arrays, NumPy matrices dramatically improve upon the numerical capabilities of core python. Python can technically represent matrices as a list of lists."
   ]
  },
  {
   "cell_type": "code",
   "execution_count": 7,
   "metadata": {},
   "outputs": [
    {
     "name": "stdout",
     "output_type": "stream",
     "text": [
      "[[1, 2, 3], [4, 5, 6], [7, 8, 9]]\n",
      "6\n"
     ]
    }
   ],
   "source": [
    "nested_lists = [[1,2,3],\n",
    "                [4,5,6],\n",
    "                [7,8,9]]\n",
    "\n",
    "print(nested_lists)\n",
    "print(nested_lists[1][2])   # To extract the 2nd row, 3rd column, two brackets are necessary."
   ]
  },
  {
   "cell_type": "markdown",
   "metadata": {},
   "source": [
    "NumPy matrices make this much easier!"
   ]
  },
  {
   "cell_type": "code",
   "execution_count": 8,
   "metadata": {},
   "outputs": [
    {
     "name": "stdout",
     "output_type": "stream",
     "text": [
      "[[1 2 3]\n",
      " [4 5 6]\n",
      " [7 8 9]]\n",
      "6\n"
     ]
    }
   ],
   "source": [
    "mat = np.array(nested_lists)\n",
    "\n",
    "print(mat)\n",
    "print(mat[1,2])"
   ]
  },
  {
   "cell_type": "markdown",
   "metadata": {},
   "source": [
    "Indexing of NumPy matrices (and arrays for that matter) obey all of the slicing conventions of lists. Commas are used to demarcate which axis a slice operation is targeting."
   ]
  },
  {
   "cell_type": "code",
   "execution_count": 9,
   "metadata": {},
   "outputs": [
    {
     "name": "stdout",
     "output_type": "stream",
     "text": [
      "mat[1,2]  = 6\n",
      "mat[0,:]  = [1 2 3]\n",
      "mat[:,-1] = [3 6 9]\n"
     ]
    }
   ],
   "source": [
    "print('mat[1,2]  = %s' %mat[1,2])    # Second row, third column.\n",
    "print('mat[0,:]  = %s' %mat[0,:])    # All the first row.\n",
    "print('mat[:,-1] = %s' %mat[:,-1])   # All of the final column."
   ]
  },
  {
   "cell_type": "markdown",
   "metadata": {},
   "source": [
    "NumPy matrices have all the same attributes of NumPy arrays, but now functions can be applied to specific rows or columns in addition to the entire matrix."
   ]
  },
  {
   "cell_type": "code",
   "execution_count": 10,
   "metadata": {},
   "outputs": [
    {
     "name": "stdout",
     "output_type": "stream",
     "text": [
      "45\n"
     ]
    }
   ],
   "source": [
    "## Sum across matrix.\n",
    "print( mat.sum() )          "
   ]
  },
  {
   "cell_type": "code",
   "execution_count": 11,
   "metadata": {},
   "outputs": [
    {
     "name": "stdout",
     "output_type": "stream",
     "text": [
      "[12 15 18]\n"
     ]
    }
   ],
   "source": [
    "## Sum across columns.\n",
    "print( mat.sum(axis=0) )"
   ]
  },
  {
   "cell_type": "code",
   "execution_count": 12,
   "metadata": {},
   "outputs": [
    {
     "name": "stdout",
     "output_type": "stream",
     "text": [
      "[ 6 15 24]\n"
     ]
    }
   ],
   "source": [
    "## Sum across rows.\n",
    "print( mat.sum(axis=1) )"
   ]
  },
  {
   "cell_type": "markdown",
   "metadata": {},
   "source": [
    "Importantly, all NumPy arrays and matrices have a **reshape** attribute allowing for transforming matrices into different dimensions."
   ]
  },
  {
   "cell_type": "code",
   "execution_count": 13,
   "metadata": {},
   "outputs": [
    {
     "name": "stdout",
     "output_type": "stream",
     "text": [
      "Original shape (3, 3)\n",
      "Column vector (9, 1)\n",
      "Row vector (1, 9)\n"
     ]
    }
   ],
   "source": [
    "print('Original shape', mat.shape)\n",
    "\n",
    "# Reshape to column vector\n",
    "mat = mat.reshape(9,1)\n",
    "print('Column vector', mat.shape)\n",
    "\n",
    "# Reshape to column vector\n",
    "mat = mat.reshape(1,9)\n",
    "print('Row vector', mat.shape)"
   ]
  },
  {
   "cell_type": "markdown",
   "metadata": {},
   "source": [
    "Importantly, reshape can be used to change the shape of NumPy arrays. The order flag can also change how they are organized (row-ordered vs. column-ordered)."
   ]
  },
  {
   "cell_type": "code",
   "execution_count": 14,
   "metadata": {},
   "outputs": [
    {
     "name": "stdout",
     "output_type": "stream",
     "text": [
      "Original: [[1 2 3 4 5 6 7 8 9]]\n"
     ]
    }
   ],
   "source": [
    "print('Original:', mat)"
   ]
  },
  {
   "cell_type": "code",
   "execution_count": 15,
   "metadata": {},
   "outputs": [
    {
     "name": "stdout",
     "output_type": "stream",
     "text": [
      "[[1 2 3]\n",
      " [4 5 6]\n",
      " [7 8 9]]\n"
     ]
    }
   ],
   "source": [
    "## Reshape (column organized)\n",
    "print(mat.reshape(3,3,order='C'))"
   ]
  },
  {
   "cell_type": "code",
   "execution_count": 16,
   "metadata": {},
   "outputs": [
    {
     "name": "stdout",
     "output_type": "stream",
     "text": [
      "[[1 4 7]\n",
      " [2 5 8]\n",
      " [3 6 9]]\n"
     ]
    }
   ],
   "source": [
    "## Reshape (row organized)\n",
    "print(mat.reshape(3,3,order='F')) "
   ]
  },
  {
   "cell_type": "markdown",
   "metadata": {},
   "source": [
    "The dimensions of matrices can also be quickly changed with **flatten** and **squeeze**. "
   ]
  },
  {
   "cell_type": "code",
   "execution_count": 17,
   "metadata": {},
   "outputs": [
    {
     "name": "stdout",
     "output_type": "stream",
     "text": [
      "Original: (3, 3, 1)\n",
      "Flatten: (9,)\n",
      "Squeeze: (3, 3)\n"
     ]
    }
   ],
   "source": [
    "## Reshape to new dimensions.\n",
    "mat = mat.reshape(3,3,1)\n",
    "print('Original:', mat.shape)\n",
    "\n",
    "## Flatten matrix.\n",
    "print('Flatten:', mat.flatten().shape )\n",
    "\n",
    "## Squeeze matrix.\n",
    "print('Squeeze:', mat.squeeze().shape )"
   ]
  },
  {
   "cell_type": "markdown",
   "metadata": {},
   "source": [
    "## Generating NumPy Arrays\n",
    "Just as with arrays, there are a number of ways of generating NumPy matrices. The simplest is to use the **array** command on a list or list of lists. "
   ]
  },
  {
   "cell_type": "code",
   "execution_count": 18,
   "metadata": {},
   "outputs": [
    {
     "name": "stdout",
     "output_type": "stream",
     "text": [
      "[4, 7, 9.4] <class 'list'>\n",
      "[4.  7.  9.4] <class 'numpy.ndarray'>\n"
     ]
    }
   ],
   "source": [
    "## Making an array from a list using the array command.\n",
    "example_list = [4, 7, 9.4]\n",
    "arr = np.array(example_list)\n",
    "\n",
    "print(example_list, type(example_list))\n",
    "print(arr, type(arr)) "
   ]
  },
  {
   "cell_type": "markdown",
   "metadata": {},
   "source": [
    "NumPy has recreated all of the standard R/Matlab commands for \n",
    "generating arrays."
   ]
  },
  {
   "cell_type": "code",
   "execution_count": 19,
   "metadata": {},
   "outputs": [
    {
     "name": "stdout",
     "output_type": "stream",
     "text": [
      "np.arange(5)        = [0 1 2 3 4]\n",
      "np.zeros(5)         = [0. 0. 0. 0. 0.]\n",
      "np.ones(5)          = [1. 1. 1. 1. 1.]\n",
      "np.linspace(0,10,5) = [ 0.   2.5  5.   7.5 10. ]\n",
      "np.logspace(0,2,5) = [  1.           3.16227766  10.          31.6227766  100.        ]\n"
     ]
    }
   ],
   "source": [
    "print('np.arange(5)        = %s' %np.arange(5))         # Array of 5 sequential integers.\n",
    "print('np.zeros(5)         = %s' %np.zeros(5))          # Array of 5 zeros.\n",
    "print('np.ones(5)          = %s' %np.ones(5))           # Array of 5 ones.\n",
    "print('np.linspace(0,10,5) = %s' %np.linspace(0,10,5))  # Length-5 evenly-spaced array from 0 to 10.\n",
    "print('np.logspace(0,2,5) = %s' %np.logspace(0,2,5))    # Length-5 logarithmically-spaced array."
   ]
  },
  {
   "cell_type": "markdown",
   "metadata": {},
   "source": [
    "The same commands previously introduced to generate NumPy arrays can also be used to generate matrices. Simply specify extra dimensions."
   ]
  },
  {
   "cell_type": "code",
   "execution_count": 20,
   "metadata": {},
   "outputs": [
    {
     "data": {
      "text/plain": [
       "array([[1., 0., 0.],\n",
       "       [0., 1., 0.],\n",
       "       [0., 0., 1.]])"
      ]
     },
     "execution_count": 20,
     "metadata": {},
     "output_type": "execute_result"
    }
   ],
   "source": [
    "np.zeros( [3,3] )               # 3x3 matrix of zeros.\n",
    "np.ones( [3,3] )                # 3x3 matrix of ones.\n",
    "np.arange(9).reshape(3,3)       # 3x3 matrix of sequential integers.\n",
    "np.linspace(0,8,9).reshape(3,3) # 3x3 matrix evenly-spaced array from 0 to 8. \n",
    "np.identity(3)                  # 3x3 identity matrix."
   ]
  },
  {
   "cell_type": "markdown",
   "metadata": {},
   "source": [
    "Matrices can also be formed by joining NumPy arrays. There are several methods for doing this, including: `row_stack`/`r_`, `column_stack`/`c_`, `hstack`, `vstack`, and `concatenate`. We demonstrate each below. "
   ]
  },
  {
   "cell_type": "code",
   "execution_count": 21,
   "metadata": {},
   "outputs": [
    {
     "name": "stdout",
     "output_type": "stream",
     "text": [
      "[0 1 2 3 4]\n",
      "[[0 1 2 3 4]\n",
      " [0 1 2 3 4]]\n",
      "[[0 0]\n",
      " [1 1]\n",
      " [2 2]\n",
      " [3 3]\n",
      " [4 4]]\n"
     ]
    }
   ],
   "source": [
    "arr = np.arange(5)\n",
    "print(arr)\n",
    "\n",
    "## Join rows.\n",
    "rows = np.row_stack([arr,arr])\n",
    "print(rows)\n",
    "\n",
    "## Join columns.\n",
    "cols = np.column_stack([arr,arr])\n",
    "print(cols)"
   ]
  },
  {
   "cell_type": "code",
   "execution_count": 22,
   "metadata": {},
   "outputs": [],
   "source": [
    "np.stack;          # join arrays along column or rows.\n",
    "np.hstack;         # join arrays along their columns\n",
    "np.vstack;         # join arrays along their rows.\n",
    "np.concatenate;    # join arrays along single axis."
   ]
  },
  {
   "cell_type": "markdown",
   "metadata": {},
   "source": [
    "In a pinch, one can also use `np.array` to concatenate arrays along the first axis."
   ]
  },
  {
   "cell_type": "code",
   "execution_count": 23,
   "metadata": {},
   "outputs": [
    {
     "name": "stdout",
     "output_type": "stream",
     "text": [
      "[[0 1 2 3 4]\n",
      " [0 1 2 3 4]]\n"
     ]
    }
   ],
   "source": [
    "print(np.array([arr,arr]))"
   ]
  },
  {
   "cell_type": "markdown",
   "metadata": {},
   "source": [
    "## Indexing, Masking, and Assignments"
   ]
  },
  {
   "cell_type": "markdown",
   "metadata": {},
   "source": [
    "NumPy supports a great many ways of indexing."
   ]
  },
  {
   "cell_type": "code",
   "execution_count": 24,
   "metadata": {},
   "outputs": [
    {
     "data": {
      "text/plain": [
       "array([6, 1, 1])"
      ]
     },
     "execution_count": 24,
     "metadata": {},
     "output_type": "execute_result"
    }
   ],
   "source": [
    "## Set the RNG seed!\n",
    "np.random.seed(47404)\n",
    "\n",
    "## Construct an arbitrary matrix.\n",
    "mat = np.random.randint(0,10,(10,10))\n",
    "\n",
    "## Access particular rows.\n",
    "mat[:1]\n",
    "\n",
    "## Access particular columns.\n",
    "mat[:,:5]\n",
    "\n",
    "## Access particular rows/columns.\n",
    "mat[:5,5:]\n",
    "\n",
    "## Access using lists of indexes.\n",
    "mat[[1,3,5],[5,1,2]]"
   ]
  },
  {
   "cell_type": "markdown",
   "metadata": {},
   "source": [
    "Far more useful is indexing with boolean arrays."
   ]
  },
  {
   "cell_type": "code",
   "execution_count": 25,
   "metadata": {},
   "outputs": [
    {
     "data": {
      "text/plain": [
       "array([[0, 2, 0, 3, 4, 5],\n",
       "       [9, 8, 3, 8, 7, 0],\n",
       "       [3, 6, 7, 3, 3, 3],\n",
       "       [1, 7, 0, 4, 6, 6],\n",
       "       [5, 5, 9, 1, 9, 1],\n",
       "       [5, 1, 8, 1, 7, 9],\n",
       "       [4, 1, 5, 0, 5, 8],\n",
       "       [9, 0, 9, 7, 9, 4],\n",
       "       [9, 6, 8, 8, 2, 5],\n",
       "       [2, 9, 6, 6, 0, 7]])"
      ]
     },
     "execution_count": 25,
     "metadata": {},
     "output_type": "execute_result"
    }
   ],
   "source": [
    "## Return all elements of matrix that meet criterion.\n",
    "mat[mat > 5]\n",
    "\n",
    "## Return all rows that begin with particular integer.\n",
    "mat[mat[:,0] == 1]\n",
    "\n",
    "## Return all columns whose sum is greater than 40.\n",
    "mat[:,mat.sum(axis=0) > 40]"
   ]
  },
  {
   "cell_type": "markdown",
   "metadata": {},
   "source": [
    "For larger matrices, we can use the ellipsis as a shorthand."
   ]
  },
  {
   "cell_type": "code",
   "execution_count": 26,
   "metadata": {},
   "outputs": [
    {
     "data": {
      "text/plain": [
       "array([[4, 2, 7, 4, 8],\n",
       "       [2, 4, 7, 7, 7],\n",
       "       [1, 7, 3, 3, 0],\n",
       "       [2, 3, 1, 3, 2],\n",
       "       [5, 1, 4, 6, 8]])"
      ]
     },
     "execution_count": 26,
     "metadata": {},
     "output_type": "execute_result"
    }
   ],
   "source": [
    "mat = np.random.randint(0,9,(5,5,5,5))\n",
    "mat[0,...,-1]"
   ]
  },
  {
   "cell_type": "markdown",
   "metadata": {},
   "source": [
    "Like pythonic lists, we can update NumPy arrays in place."
   ]
  },
  {
   "cell_type": "code",
   "execution_count": 27,
   "metadata": {},
   "outputs": [],
   "source": [
    "## Construct an arbitrary matrix.\n",
    "mat = np.random.randint(0,10,(10,10))\n",
    "\n",
    "## Update first element.\n",
    "mat[0,0] = 99\n",
    "\n",
    "## Update full row.\n",
    "mat[3,:] = -99\n",
    "\n",
    "## Update multiple columns.\n",
    "mat[:,-2:] = 0"
   ]
  },
  {
   "cell_type": "markdown",
   "metadata": {},
   "source": [
    "This also allows for convenient masking."
   ]
  },
  {
   "cell_type": "code",
   "execution_count": 28,
   "metadata": {},
   "outputs": [
    {
     "data": {
      "text/plain": [
       "array([[99,  7,  0,  5,  9,  7,  0,  0,  0,  0],\n",
       "       [ 0,  0,  8,  6,  7,  6,  0,  5,  0,  0],\n",
       "       [ 0,  5,  0,  9,  5,  0,  0,  7,  0,  0],\n",
       "       [ 0,  0,  0,  0,  0,  0,  0,  0,  0,  0],\n",
       "       [ 7,  6,  6,  8,  7,  0,  0,  7,  0,  0],\n",
       "       [ 0,  9,  7,  0,  0,  0,  0,  0,  0,  0],\n",
       "       [ 6,  0,  0,  6,  9,  6,  8,  0,  0,  0],\n",
       "       [ 0,  0,  5,  7,  9,  8,  0,  0,  0,  0],\n",
       "       [ 7,  8,  5,  8,  0,  5,  0,  0,  0,  0],\n",
       "       [ 0,  8,  6,  9,  7,  8,  5,  0,  0,  0]])"
      ]
     },
     "execution_count": 28,
     "metadata": {},
     "output_type": "execute_result"
    }
   ],
   "source": [
    "mat[mat < 5 ] = 0\n",
    "mat"
   ]
  },
  {
   "cell_type": "markdown",
   "metadata": {},
   "source": [
    "For a complete list of convenient routines, see the [NumPy indexing documentation](https://docs.scipy.org/doc/numpy/user/basics.indexing.html#)."
   ]
  },
  {
   "cell_type": "markdown",
   "metadata": {},
   "source": [
    "## Core NumPy Functions\n",
    "NumPy also introduces a [number of useful functions](https://docs.scipy.org/doc/numpy/reference/) designed to operate efficiently over NumPy arrays. The following is a non-exhaustive overview of some important NumPy functions."
   ]
  },
  {
   "cell_type": "markdown",
   "metadata": {},
   "source": [
    "#### Mathematical functions"
   ]
  },
  {
   "cell_type": "markdown",
   "metadata": {},
   "source": [
    "NumPy includes a variety of mathematical functions. All of these can be applied across an entire matrix or across arrays."
   ]
  },
  {
   "cell_type": "code",
   "execution_count": 29,
   "metadata": {},
   "outputs": [],
   "source": [
    "np.sum;       # Sum of an array or matrix.\n",
    "np.cumsum;    # Cumulative sum over an array.\n",
    "np.prod;      # Element-wise multiplication of an array.\n",
    "np.divide;    # Element-wise division of two arrays.\n",
    "np.diff;      # Pairwise difference of elements of an array.\n",
    "np.exp;       # Exponential transform.\n",
    "np.log;       # Natural logarithm.\n",
    "np.log10;     # Base-10 logarithm."
   ]
  },
  {
   "cell_type": "markdown",
   "metadata": {},
   "source": [
    "#### Rounding Functions"
   ]
  },
  {
   "cell_type": "code",
   "execution_count": 30,
   "metadata": {},
   "outputs": [
    {
     "name": "stdout",
     "output_type": "stream",
     "text": [
      "Original: [0.   0.25 0.5  0.75 1.  ]\n",
      "np.round: [0.  0.2 0.5 0.8 1. ]\n",
      "np.floor: [0. 0. 0. 0. 1.]\n",
      "np.ceil:  [0. 1. 1. 1. 1.]\n"
     ]
    }
   ],
   "source": [
    "mat = np.linspace(0,1,5)\n",
    "print('Original: %s' %mat)\n",
    "print('np.round: %s' %np.round(mat, 1) )\n",
    "print('np.floor: %s' %np.floor(mat) ) \n",
    "print('np.ceil:  %s' %np.ceil(mat) )"
   ]
  },
  {
   "cell_type": "markdown",
   "metadata": {},
   "source": [
    "#### Summary Functions\n",
    "\n",
    "NumPy includes many functions to summarize an array. With the exception of `np.corrcoef`, all of these can be\n",
    "applied across an entire matrix or across arrays."
   ]
  },
  {
   "cell_type": "code",
   "execution_count": 31,
   "metadata": {},
   "outputs": [],
   "source": [
    "np.min;           # Return the smallest element.\n",
    "np.max;           # Return the largest element.\n",
    "np.argmin;        # Return the index of the smallest element.\n",
    "np.argmax;        # Return the index of the largest element.\n",
    "np.mean;          # Compute the mean of an array.\n",
    "np.median;        # Compute the median of an array.\n",
    "np.std;           # Compute the standard deviation of an array.\n",
    "np.var;           # Compute the variance (sd^2) of an array.\n",
    "np.percentile;    # Compute the xth percentile of an array.\n",
    "np.corrcoef;      # Compute the row-/col-wise correlation of a matrix."
   ]
  },
  {
   "cell_type": "markdown",
   "metadata": {},
   "source": [
    "#### Set Functions\n",
    "NumPy includes functions for identifying unique elements within or between arrays."
   ]
  },
  {
   "cell_type": "code",
   "execution_count": 32,
   "metadata": {},
   "outputs": [],
   "source": [
    "## Define two arrays for example.\n",
    "arr1 = np.array([41, 16, 34, 0, 2, 20, 19, 14, 22, 15, 18, 9, 35, 41])\n",
    "arr2 = np.array([42, 22, 40, 7, 33, 0, 12, 19, 44, 10, 31, 11, 11, 49])"
   ]
  },
  {
   "cell_type": "code",
   "execution_count": 33,
   "metadata": {},
   "outputs": [
    {
     "data": {
      "text/plain": [
       "array([ 0,  2,  9, 14, 15, 16, 18, 19, 20, 22, 34, 35, 41, 41])"
      ]
     },
     "execution_count": 33,
     "metadata": {},
     "output_type": "execute_result"
    }
   ],
   "source": [
    "## Sort elements (ascending order).\n",
    "np.sort(arr1)"
   ]
  },
  {
   "cell_type": "code",
   "execution_count": 34,
   "metadata": {},
   "outputs": [
    {
     "data": {
      "text/plain": [
       "array([ 0,  2,  9, 14, 15, 16, 18, 19, 20, 22, 34, 35, 41])"
      ]
     },
     "execution_count": 34,
     "metadata": {},
     "output_type": "execute_result"
    }
   ],
   "source": [
    "## Return unique elements.\n",
    "np.unique(arr1)"
   ]
  },
  {
   "cell_type": "code",
   "execution_count": 35,
   "metadata": {},
   "outputs": [
    {
     "data": {
      "text/plain": [
       "(array([ 0,  2,  9, 14, 15, 16, 18, 19, 20, 22, 34, 35, 41]),\n",
       " array([1, 1, 1, 1, 1, 1, 1, 1, 1, 1, 1, 1, 2]))"
      ]
     },
     "execution_count": 35,
     "metadata": {},
     "output_type": "execute_result"
    }
   ],
   "source": [
    "## Return unique elements, count number of appearances.\n",
    "np.unique(arr1, return_counts=True)"
   ]
  },
  {
   "cell_type": "code",
   "execution_count": 36,
   "metadata": {},
   "outputs": [
    {
     "data": {
      "text/plain": [
       "array([False, False, False,  True, False, False,  True, False,  True,\n",
       "       False, False, False, False, False])"
      ]
     },
     "execution_count": 36,
     "metadata": {},
     "output_type": "execute_result"
    }
   ],
   "source": [
    "## Find the elements of array-1 in array-2.\n",
    "np.in1d(arr1, arr2)"
   ]
  },
  {
   "cell_type": "code",
   "execution_count": 37,
   "metadata": {},
   "outputs": [
    {
     "data": {
      "text/plain": [
       "array([ 0,  2,  7,  9, 10, 11, 12, 14, 15, 16, 18, 19, 20, 22, 31, 33, 34,\n",
       "       35, 40, 41, 42, 44, 49])"
      ]
     },
     "execution_count": 37,
     "metadata": {},
     "output_type": "execute_result"
    }
   ],
   "source": [
    "## Return all unique elements of arrays 1 & 2.\n",
    "np.union1d(arr1, arr2)"
   ]
  },
  {
   "cell_type": "code",
   "execution_count": 38,
   "metadata": {},
   "outputs": [
    {
     "data": {
      "text/plain": [
       "array([ 0, 19, 22])"
      ]
     },
     "execution_count": 38,
     "metadata": {},
     "output_type": "execute_result"
    }
   ],
   "source": [
    "## Return all elements belonging to both arrays 1 & 2.\n",
    "np.intersect1d(arr1, arr2)"
   ]
  },
  {
   "cell_type": "markdown",
   "metadata": {},
   "source": [
    "## Replacing List Comprehensions"
   ]
  },
  {
   "cell_type": "markdown",
   "metadata": {},
   "source": [
    "NumPy includes a number of very helpful functions that act to replace list comprehensions (np.where) and for loops (np.apply_across_axis, np.apply_over_axes). These are often more efficient than writing out a full For loop. We will emphasize these functions with a simple example of standard-scoring (z-scoring) a matrix."
   ]
  },
  {
   "cell_type": "code",
   "execution_count": 39,
   "metadata": {},
   "outputs": [
    {
     "name": "stdout",
     "output_type": "stream",
     "text": [
      "[[ 0  1  2  3  4  5]\n",
      " [ 6  7  8  9 10 11]]\n"
     ]
    }
   ],
   "source": [
    "## Define the standard score (z-score) function.\n",
    "def zscore(arr): \n",
    "    return (arr - arr.mean()) / arr.std()\n",
    "\n",
    "## Define a simple matrix.\n",
    "mat = np.arange(12).reshape(2,6)\n",
    "print(mat)"
   ]
  },
  {
   "cell_type": "markdown",
   "metadata": {},
   "source": [
    "Use `np.apply_across_axis` to apply our function across each row."
   ]
  },
  {
   "cell_type": "code",
   "execution_count": 40,
   "metadata": {},
   "outputs": [
    {
     "name": "stdout",
     "output_type": "stream",
     "text": [
      "[[-1.46 -0.88 -0.29  0.29  0.88  1.46]\n",
      " [-1.46 -0.88 -0.29  0.29  0.88  1.46]]\n"
     ]
    }
   ],
   "source": [
    "zmat = np.apply_along_axis(zscore, axis=1, arr=mat)\n",
    "print(zmat.round(2))"
   ]
  },
  {
   "cell_type": "markdown",
   "metadata": {},
   "source": [
    "Use the `np.where` command to set all negative numbers to 0, else 1. "
   ]
  },
  {
   "cell_type": "code",
   "execution_count": 41,
   "metadata": {},
   "outputs": [
    {
     "name": "stdout",
     "output_type": "stream",
     "text": [
      "[[0 0 0 1 1 1]\n",
      " [0 0 0 1 1 1]]\n"
     ]
    }
   ],
   "source": [
    "amat = np.where(zmat < 0, 0, 1)\n",
    "print(amat)"
   ]
  },
  {
   "cell_type": "markdown",
   "metadata": {},
   "source": [
    "If no transforms are specified, `np.where` returns the indices of the array where the conditional is met."
   ]
  },
  {
   "cell_type": "code",
   "execution_count": 42,
   "metadata": {},
   "outputs": [
    {
     "name": "stdout",
     "output_type": "stream",
     "text": [
      "(array([0, 0, 0, 1, 1, 1]), array([0, 1, 2, 0, 1, 2]))\n"
     ]
    }
   ],
   "source": [
    "print( np.where(zmat < 0 ) )"
   ]
  },
  {
   "cell_type": "markdown",
   "metadata": {},
   "source": [
    "This also means `np.where` is especially useful for indexing and masking!"
   ]
  },
  {
   "cell_type": "code",
   "execution_count": 43,
   "metadata": {},
   "outputs": [
    {
     "data": {
      "text/plain": [
       "array([ 3,  4,  5,  9, 10, 11])"
      ]
     },
     "execution_count": 43,
     "metadata": {},
     "output_type": "execute_result"
    }
   ],
   "source": [
    "mat[zmat > 0]"
   ]
  },
  {
   "cell_type": "markdown",
   "metadata": {},
   "source": [
    "## Matrix Math"
   ]
  },
  {
   "cell_type": "markdown",
   "metadata": {},
   "source": [
    "NumPy supports matrix operations. The simplest operator is transposition."
   ]
  },
  {
   "cell_type": "code",
   "execution_count": 44,
   "metadata": {},
   "outputs": [
    {
     "name": "stdout",
     "output_type": "stream",
     "text": [
      "[[ 0.74870017  0.17009284 -1.55704802  0.6663686  -0.23960664]\n",
      " [ 0.31441717 -0.62799089  0.13503709 -1.14103616 -0.74820447]\n",
      " [ 0.62186404 -0.28863985  0.42554203 -0.63336091 -0.14600351]\n",
      " [ 1.72994316  0.12359513  0.41872901 -0.17774351  0.03019599]\n",
      " [ 0.07238011  2.52815271  0.69858317 -0.27696547 -0.10882994]]\n",
      "[[ 0.74870017  0.31441717  0.62186404  1.72994316  0.07238011]\n",
      " [ 0.17009284 -0.62799089 -0.28863985  0.12359513  2.52815271]\n",
      " [-1.55704802  0.13503709  0.42554203  0.41872901  0.69858317]\n",
      " [ 0.6663686  -1.14103616 -0.63336091 -0.17774351 -0.27696547]\n",
      " [-0.23960664 -0.74820447 -0.14600351  0.03019599 -0.10882994]]\n"
     ]
    }
   ],
   "source": [
    "## Generate random matrix.\n",
    "X = np.random.normal(0,1,(5,5))\n",
    "\n",
    "print(X)      # Print original matrix.\n",
    "print(X.T)    # Print transposed matrix."
   ]
  },
  {
   "cell_type": "markdown",
   "metadata": {},
   "source": [
    "The shorthand for matrix multiplication uses the **@** operator."
   ]
  },
  {
   "cell_type": "code",
   "execution_count": 45,
   "metadata": {},
   "outputs": [
    {
     "data": {
      "text/plain": [
       "array([[ 7.81196923e-01, -5.34443609e-02, -1.69373995e+00,\n",
       "         1.23892161e+00, -3.31252420e-02],\n",
       "       [-1.90615504e+00, -1.62372608e+00, -1.51736872e+00,\n",
       "         1.25058940e+00,  4.21785588e-01],\n",
       "       [-4.66780443e-01, -2.83190067e-01, -1.19336542e+00,\n",
       "         6.27231213e-01,  1.59283977e-03],\n",
       "       [ 1.28916110e+00,  1.50144291e-01, -2.55205981e+00,\n",
       "         7.69776211e-01, -5.76769559e-01],\n",
       "       [ 7.96497733e-01, -2.08635475e+00,  3.33971335e-01,\n",
       "        -3.19956615e+00, -2.00743279e+00]])"
      ]
     },
     "execution_count": 45,
     "metadata": {},
     "output_type": "execute_result"
    }
   ],
   "source": [
    "X @ X"
   ]
  },
  {
   "cell_type": "markdown",
   "metadata": {},
   "source": [
    "The **@** operator can be substituted with ``np.dot``. "
   ]
  },
  {
   "cell_type": "code",
   "execution_count": 46,
   "metadata": {},
   "outputs": [
    {
     "data": {
      "text/plain": [
       "True"
      ]
     },
     "execution_count": 46,
     "metadata": {},
     "output_type": "execute_result"
    }
   ],
   "source": [
    "## Matrix multiplcation (v1).\n",
    "v1 = np.dot(X,X)\n",
    "\n",
    "## Matrix multiplcation (v2).\n",
    "v2 = X.dot(X)\n",
    "\n",
    "## Assert all equal.\n",
    "np.all(v1 == v2)"
   ]
  },
  {
   "cell_type": "markdown",
   "metadata": {},
   "source": [
    "Similarly, NumPy supports inner and outer products."
   ]
  },
  {
   "cell_type": "code",
   "execution_count": 47,
   "metadata": {},
   "outputs": [
    {
     "name": "stdout",
     "output_type": "stream",
     "text": [
      "4.975035263824731\n",
      "[[ 2.44401071e-01  8.53521805e-01  2.08950095e-02 -1.88721690e-01\n",
      "   6.25795584e-01]\n",
      " [ 8.53521805e-01  2.98075401e+00  7.29716370e-02 -6.59072715e-01\n",
      "   2.18546578e+00]\n",
      " [ 2.08950095e-02  7.29716370e-02  1.78641370e-03 -1.61347145e-02\n",
      "   5.35022396e-02]\n",
      " [-1.88721690e-01 -6.59072715e-01 -1.61347145e-02  1.45727169e-01\n",
      "  -4.83227015e-01]\n",
      " [ 6.25795584e-01  2.18546578e+00  5.35022396e-02 -4.83227015e-01\n",
      "   1.60236660e+00]]\n"
     ]
    }
   ],
   "source": [
    "x = np.random.normal(0,1,size=5)\n",
    "\n",
    "## Inner product.\n",
    "inner = np.inner(x,x)\n",
    "print(inner)\n",
    "\n",
    "## Outer product.\n",
    "outer = np.outer(x,x)\n",
    "print(outer)"
   ]
  },
  {
   "cell_type": "markdown",
   "metadata": {},
   "source": [
    "## Linear Algebra Functions"
   ]
  },
  {
   "cell_type": "markdown",
   "metadata": {},
   "source": [
    "NumPy includes an entire submodule dedicated to efficient linear algebra functions (though it should be noted that SciPy has reimplemented them for maximal efficiency). See np.linalg for a full list of commands."
   ]
  },
  {
   "cell_type": "code",
   "execution_count": 48,
   "metadata": {},
   "outputs": [
    {
     "name": "stdout",
     "output_type": "stream",
     "text": [
      "[[ 0  1  2  3]\n",
      " [ 4  5  6  7]\n",
      " [ 8  9 10 11]\n",
      " [12 13 14 15]]\n"
     ]
    }
   ],
   "source": [
    "## Define a simple matrix.\n",
    "mat = np.arange(16).reshape(4,4)\n",
    "print(mat)"
   ]
  },
  {
   "cell_type": "code",
   "execution_count": 49,
   "metadata": {},
   "outputs": [
    {
     "name": "stdout",
     "output_type": "stream",
     "text": [
      "[ 0  5 10 15]\n"
     ]
    }
   ],
   "source": [
    "## Return diagonal of matrix\n",
    "print(np.diag(mat))"
   ]
  },
  {
   "cell_type": "code",
   "execution_count": 50,
   "metadata": {},
   "outputs": [
    {
     "name": "stdout",
     "output_type": "stream",
     "text": [
      "[[ 0  1  2  3]\n",
      " [ 0  5  6  7]\n",
      " [ 0  0 10 11]\n",
      " [ 0  0  0 15]]\n"
     ]
    }
   ],
   "source": [
    "## Return upper triangular matrix\n",
    "print(np.triu(mat))    "
   ]
  },
  {
   "cell_type": "code",
   "execution_count": 51,
   "metadata": {},
   "outputs": [
    {
     "name": "stdout",
     "output_type": "stream",
     "text": [
      "[[ 56  62  68  74]\n",
      " [152 174 196 218]\n",
      " [248 286 324 362]\n",
      " [344 398 452 506]]\n"
     ]
    }
   ],
   "source": [
    "## Matrix multiply itself. Can also np.dot.\n",
    "print(np.dot(mat, mat))    "
   ]
  },
  {
   "cell_type": "code",
   "execution_count": 52,
   "metadata": {},
   "outputs": [
    {
     "name": "stdout",
     "output_type": "stream",
     "text": [
      "[[ 56  62  68  74]\n",
      " [152 174 196 218]\n",
      " [248 286 324 362]\n",
      " [344 398 452 506]]\n"
     ]
    }
   ],
   "source": [
    "## Can also use:\n",
    "print(mat.dot(mat))"
   ]
  },
  {
   "cell_type": "code",
   "execution_count": 53,
   "metadata": {},
   "outputs": [],
   "source": [
    "## Linear algebra operations include:\n",
    "np.linalg.norm;        # Vector or matrix norm\n",
    "np.linalg.inv;         # Inverse of a square matrix\n",
    "np.linalg.det;         # Determinant of a square matrix\n",
    "np.linalg.eig;         # Eigenvalues and vectors of a square matrix\n",
    "np.linalg.cholesky;    # Cholesky decomposition of a matrix\n",
    "np.linalg.svd;         # Singular value decomposition of a matrix\n",
    "np.linalg.lstsq;       # Solve linear least-squares problem"
   ]
  },
  {
   "cell_type": "markdown",
   "metadata": {},
   "source": [
    "## Brief Note on NaNs"
   ]
  },
  {
   "cell_type": "markdown",
   "metadata": {},
   "source": [
    "NumPy has a unique NaN class. `np.nan` dominates all other numeric types."
   ]
  },
  {
   "cell_type": "code",
   "execution_count": 54,
   "metadata": {},
   "outputs": [
    {
     "name": "stdout",
     "output_type": "stream",
     "text": [
      "nan\n",
      "[nan nan nan nan nan]\n"
     ]
    }
   ],
   "source": [
    "print(7. * np.nan)              # NaN dominates numeric types.\n",
    "print(np.arange(5) * np.nan)    # NaN dominates numeric arrays."
   ]
  },
  {
   "cell_type": "markdown",
   "metadata": {},
   "source": [
    "NaNs may appear wherever there is missing data, or when an operation returns an invalid number."
   ]
  },
  {
   "cell_type": "code",
   "execution_count": 55,
   "metadata": {},
   "outputs": [
    {
     "name": "stdout",
     "output_type": "stream",
     "text": [
      "[[ 0.  1.  2.  3.  4.]\n",
      " [ 5.  6.  7.  8. nan]\n",
      " [10. 11. 12. 13. 14.]]\n"
     ]
    }
   ],
   "source": [
    "## Example array.\n",
    "arr = np.arange(15,dtype=float).reshape(3,5)\n",
    "arr[1,-1] = np.nan\n",
    "print(arr)"
   ]
  },
  {
   "cell_type": "markdown",
   "metadata": {},
   "source": [
    "NaNs can be challenging because they corrupt most standard routines."
   ]
  },
  {
   "cell_type": "code",
   "execution_count": 56,
   "metadata": {},
   "outputs": [
    {
     "name": "stdout",
     "output_type": "stream",
     "text": [
      "[ 4. nan 14.]\n",
      "[ 2. nan 12.]\n",
      "[1.41421356        nan 1.41421356]\n"
     ]
    }
   ],
   "source": [
    "print(arr.max(axis=1))     # NaNs corrupt max.\n",
    "print(arr.mean(axis=1))    # NaNs corrupt mean.\n",
    "print(arr.std(axis=1))     # NaNs corrupt standard deviation."
   ]
  },
  {
   "cell_type": "markdown",
   "metadata": {},
   "source": [
    "NumPy offers a suite of NaN robust functions. These are slower, but can be useful in analysis."
   ]
  },
  {
   "cell_type": "code",
   "execution_count": 57,
   "metadata": {},
   "outputs": [
    {
     "name": "stdout",
     "output_type": "stream",
     "text": [
      "[ 4.  8. 14.]\n",
      "[ 2.   6.5 12. ]\n",
      "[1.41421356 1.11803399 1.41421356]\n"
     ]
    }
   ],
   "source": [
    "print(np.nanmax(arr, axis=1))     # NaN robust max.\n",
    "print(np.nanmean(arr, axis=1))    # NaN robust mean.\n",
    "print(np.nanstd(arr, axis=1))     # NaN robust standard deviation."
   ]
  }
 ],
 "metadata": {
  "kernelspec": {
   "display_name": "Python 3",
   "language": "python",
   "name": "python3"
  },
  "language_info": {
   "codemirror_mode": {
    "name": "ipython",
    "version": 3
   },
   "file_extension": ".py",
   "mimetype": "text/x-python",
   "name": "python",
   "nbconvert_exporter": "python",
   "pygments_lexer": "ipython3",
   "version": "3.7.4"
  }
 },
 "nbformat": 4,
 "nbformat_minor": 4
}
