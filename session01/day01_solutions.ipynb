{
 "cells": [
  {
   "cell_type": "markdown",
   "metadata": {},
   "source": [
    "# Session 1 Exercises\n",
    "\n",
    "## Part 1: Spike Counts\n",
    "\n",
    "Imagine you've just finished recording from a V1 neuron. Across 60 trials, you presented either a vertical or horizontal Gabor patch (30 each) and recorded the corresponding number of spikes (counts below). Now you want to ask some questions of your data."
   ]
  },
  {
   "cell_type": "code",
   "execution_count": 1,
   "metadata": {},
   "outputs": [],
   "source": [
    "## Spike counts: vertical Gabor patch.\n",
    "spikes_v = [39, 36, 38, 32, 28, 33, 28, 29, 30, 31, 22, 37, 26, 22, 37, \n",
    "            34, 26, 30, 32, 34, 30, 26, 30, 26, 32, 30, 28, 21, 35, 41]\n",
    "\n",
    "## Spike counts: horizontal Gabor patch.\n",
    "spikes_h = [28, 19, 15, 19, 25, 27, 19, 19, 28, 18, 19, 24, 14, 24, 16, \n",
    "            11, 24, 16, 21, 22, 18, 24, 24, 20, 15, 26, 20, 17, 21, 26]"
   ]
  },
  {
   "cell_type": "markdown",
   "metadata": {},
   "source": [
    "#### Exercise 1: Indexing\n",
    "\n",
    "a) Return the spike count corresponding to the 17th presentation of the vertical stimulus."
   ]
  },
  {
   "cell_type": "code",
   "execution_count": 2,
   "metadata": {},
   "outputs": [
    {
     "data": {
      "text/plain": [
       "32"
      ]
     },
     "execution_count": 2,
     "metadata": {},
     "output_type": "execute_result"
    }
   ],
   "source": [
    "spikes_v[18]"
   ]
  },
  {
   "cell_type": "markdown",
   "metadata": {},
   "source": [
    "b) Return the spike count corresponding to the fifth-from-last presentation of the horizontal stimulus."
   ]
  },
  {
   "cell_type": "code",
   "execution_count": 3,
   "metadata": {},
   "outputs": [
    {
     "data": {
      "text/plain": [
       "26"
      ]
     },
     "execution_count": 3,
     "metadata": {},
     "output_type": "execute_result"
    }
   ],
   "source": [
    "spikes_h[-5]"
   ]
  },
  {
   "cell_type": "markdown",
   "metadata": {},
   "source": [
    "c) Return the spike counts from every fourth presentation of the horizontal stimulus. "
   ]
  },
  {
   "cell_type": "code",
   "execution_count": 4,
   "metadata": {},
   "outputs": [
    {
     "data": {
      "text/plain": [
       "[28, 25, 28, 14, 24, 18, 15, 21]"
      ]
     },
     "execution_count": 4,
     "metadata": {},
     "output_type": "execute_result"
    }
   ],
   "source": [
    "spikes_h[::4]"
   ]
  },
  {
   "cell_type": "markdown",
   "metadata": {},
   "source": [
    "d) Return spike count corresponding to the 3rd, 8th, and 10th-from-last presentaiton of the vertical stimulus. (Hint: use list comprehensions.)"
   ]
  },
  {
   "cell_type": "code",
   "execution_count": 5,
   "metadata": {},
   "outputs": [
    {
     "data": {
      "text/plain": [
       "[28, 31, 30]"
      ]
     },
     "execution_count": 5,
     "metadata": {},
     "output_type": "execute_result"
    }
   ],
   "source": [
    "[spikes_v[i] for i in [4, 9, -10]]"
   ]
  },
  {
   "cell_type": "markdown",
   "metadata": {},
   "source": [
    "e) Return the 2nd largest recorded spike count in response to the vertical stimulus. (Hint: use the `sort` function.)"
   ]
  },
  {
   "cell_type": "code",
   "execution_count": 6,
   "metadata": {},
   "outputs": [
    {
     "data": {
      "text/plain": [
       "39"
      ]
     },
     "execution_count": 6,
     "metadata": {},
     "output_type": "execute_result"
    }
   ],
   "source": [
    "sorted(spikes_v)[-2]"
   ]
  },
  {
   "cell_type": "markdown",
   "metadata": {},
   "source": [
    "#### Exercise 2: Built-in Functions\n",
    "\n",
    "a) Compute and store in separate variables the max spike count from each stimulus condition. Then, using an `if/else` statement, write some code which prints out which condition had the larger max count."
   ]
  },
  {
   "cell_type": "code",
   "execution_count": 7,
   "metadata": {},
   "outputs": [
    {
     "name": "stdout",
     "output_type": "stream",
     "text": [
      "V > H\n"
     ]
    }
   ],
   "source": [
    "max_v = max(spikes_v)    # Max spike (vertical)\n",
    "max_h = max(spikes_h)    # Max spike (horizontal)\n",
    "\n",
    "if max_v > max_h:\n",
    "    print('V > H')\n",
    "else:\n",
    "    print('V < H')"
   ]
  },
  {
   "cell_type": "markdown",
   "metadata": {},
   "source": [
    "b) Compute and store in separate variables the total spike counts from each stimulus condition. Then, using an `if/else` statement, write some code which prints out which condition had the smaller total count."
   ]
  },
  {
   "cell_type": "code",
   "execution_count": 8,
   "metadata": {},
   "outputs": [
    {
     "name": "stdout",
     "output_type": "stream",
     "text": [
      "V > H\n"
     ]
    }
   ],
   "source": [
    "sum_v = sum(spikes_v)    # Total spikes (vertical)\n",
    "sum_h = sum(spikes_h)    # Total spikes (horizontal)\n",
    "\n",
    "if sum_v > sum_h:\n",
    "    print('V > H')\n",
    "else:\n",
    "    print('V < H')"
   ]
  },
  {
   "cell_type": "markdown",
   "metadata": {},
   "source": [
    "#### Exercise 3: Basic Scripting\n",
    "a) Using list comprehensions, create a new copy of each list that now contains spikes counts greater than or equal to 25. How many counts are now in each list?"
   ]
  },
  {
   "cell_type": "code",
   "execution_count": 9,
   "metadata": {},
   "outputs": [
    {
     "name": "stdout",
     "output_type": "stream",
     "text": [
      "Vertical: 27\n",
      "Horizontal: 6\n"
     ]
    }
   ],
   "source": [
    "big_bois_v = [c for c in spikes_v if c >= 25]\n",
    "big_bois_h = [c for c in spikes_h if c >= 25]\n",
    "\n",
    "print(f'Vertical: {len(big_bois_v)}')\n",
    "print(f'Horizontal: {len(big_bois_h)}')"
   ]
  },
  {
   "cell_type": "markdown",
   "metadata": {},
   "source": [
    "b) Using a for loop, create new list containing only the intersection of the two lists (i.e. containing only spike counts present in both lists)."
   ]
  },
  {
   "cell_type": "code",
   "execution_count": 10,
   "metadata": {},
   "outputs": [
    {
     "name": "stdout",
     "output_type": "stream",
     "text": [
      "[21, 22, 26, 28]\n"
     ]
    }
   ],
   "source": [
    "## Initalize new list.\n",
    "intersection = []\n",
    "\n",
    "## Iterate over both lists.\n",
    "for v, h in zip(spikes_v, spikes_h):\n",
    "    \n",
    "    ## Check if v-spike in horizontal.\n",
    "    if v in spikes_h and v not in intersection: \n",
    "        intersection.append(v)\n",
    "        \n",
    "    ## Check if h-spike in horizontal.\n",
    "    if h in spikes_v and h not in intersection: \n",
    "        intersection.append(h)\n",
    "        \n",
    "## Sort for good measure.\n",
    "intersection = sorted(intersection)\n",
    "    \n",
    "print(intersection)"
   ]
  },
  {
   "cell_type": "markdown",
   "metadata": {},
   "source": [
    "c) Do the same as above, now only using list comprehensions."
   ]
  },
  {
   "cell_type": "code",
   "execution_count": 11,
   "metadata": {},
   "outputs": [
    {
     "name": "stdout",
     "output_type": "stream",
     "text": [
      "[21, 22, 26, 28]\n"
     ]
    }
   ],
   "source": [
    "## Find v in horizontal.\n",
    "h_in_v = [h for h in spikes_h if h in spikes_v]\n",
    "v_in_h = [v for v in spikes_v if v in spikes_h]\n",
    "\n",
    "## Use sets to find intersection.\n",
    "intersection = list(set(h_in_v + v_in_h))\n",
    "\n",
    "## Sort for good measure.\n",
    "intersection = sorted(intersection)\n",
    "    \n",
    "print(intersection)"
   ]
  },
  {
   "cell_type": "markdown",
   "metadata": {},
   "source": [
    "#### Exercise 4: Custom Functions\n",
    "a) Copy the **mean** function from today's lecture. Which condition shows the greater number of spikes on average? "
   ]
  },
  {
   "cell_type": "code",
   "execution_count": 12,
   "metadata": {},
   "outputs": [
    {
     "name": "stdout",
     "output_type": "stream",
     "text": [
      "Mean(vertical)   = 30.767\n",
      "Mean(horizontal) = 20.633\n"
     ]
    }
   ],
   "source": [
    "def mean(X):\n",
    "    \"Compute arithmetic average.\"\n",
    "    return sum(X) / len(X)\n",
    "\n",
    "print('Mean(vertical)   = %0.3f' %mean(spikes_v))\n",
    "print('Mean(horizontal) = %0.3f' %mean(spikes_h))"
   ]
  },
  {
   "cell_type": "markdown",
   "metadata": {},
   "source": [
    "b) Write a function that computes the **median** of a list. Which condition shows the greater median number of spikes?"
   ]
  },
  {
   "cell_type": "code",
   "execution_count": 13,
   "metadata": {},
   "outputs": [
    {
     "name": "stdout",
     "output_type": "stream",
     "text": [
      "Median(vertical)   = 35.5\n",
      "Median(horizontal) = 13.5\n"
     ]
    }
   ],
   "source": [
    "def median(X):\n",
    "    \"Find median of list.\"\n",
    "    \n",
    "    ## Check if odd or even.\n",
    "    odd = len(X) % 2\n",
    "    \n",
    "    ## If odd, return middle index.\n",
    "    if odd:\n",
    "        return X[len(X) // 2]\n",
    "    \n",
    "    ## If even, take average of middle indexes.\n",
    "    else:\n",
    "        lb = X[len(X) // 2 - 1]    # Lower-bound\n",
    "        ub = X[len(X) // 2]        # Upper-bound\n",
    "        return (lb + ub) / 2\n",
    "    \n",
    "print('Median(vertical)   = %0.1f' %median(spikes_v))\n",
    "print('Median(horizontal) = %0.1f' %median(spikes_h))"
   ]
  },
  {
   "cell_type": "markdown",
   "metadata": {},
   "source": [
    "c) Write a function that computes the **standard deviation** of a list. Which condition shows the greater standard deviation in the number of spikes? As a reminder, the formula for the standard deviation is:\n",
    "\n",
    "$$ s = \\sqrt{\\frac{1}{N-1} \\sum_{i=1}^N (x_i - \\bar{x})^2 }$$ "
   ]
  },
  {
   "cell_type": "code",
   "execution_count": 14,
   "metadata": {},
   "outputs": [
    {
     "name": "stdout",
     "output_type": "stream",
     "text": [
      "SD(vertical)   = 5.077\n",
      "SD(horizontal) = 4.429\n"
     ]
    }
   ],
   "source": [
    "def mean(x):\n",
    "    \"Compute arithmetic average.\"\n",
    "    return sum(x) / len(x)\n",
    "\n",
    "def std(X):\n",
    "    \"Compute empirical standard deviation.\"\n",
    "    \n",
    "    ## Calculate empirical mean.\n",
    "    mu = mean(X)\n",
    "    \n",
    "    ## Compute sum of squared error.\n",
    "    sse = sum( [ (x - mu)**2 for x in X ] )\n",
    "    \n",
    "    ## Normalize.\n",
    "    var = sse / (len(X) - 1)\n",
    "    \n",
    "    return var ** 0.5\n",
    "\n",
    "print('SD(vertical)   = %0.3f' %std(spikes_v))\n",
    "print('SD(horizontal) = %0.3f' %std(spikes_h))"
   ]
  },
  {
   "cell_type": "markdown",
   "metadata": {},
   "source": [
    "## Part 2: Challenges\n",
    "\n",
    "Below are some programming challenges to test out your python muster!"
   ]
  },
  {
   "cell_type": "markdown",
   "metadata": {},
   "source": [
    "#### Exercise 1\n",
    "\n",
    "Write a function that checks if the inputted argument is even, odd, a float, or not a number (NaN)."
   ]
  },
  {
   "cell_type": "code",
   "execution_count": 15,
   "metadata": {},
   "outputs": [
    {
     "name": "stdout",
     "output_type": "stream",
     "text": [
      "1 is odd.\n",
      "2 is even.\n",
      "2.5 is a float.\n",
      "\"yay\" is not a number.\n"
     ]
    }
   ],
   "source": [
    "def number_checker(x):\n",
    "    \"\"\"A silly number checker.\"\"\"\n",
    "    \n",
    "    if isinstance(x, int) and x % 2: \n",
    "        print(f'{x} is odd.')\n",
    "    elif isinstance(x, int):\n",
    "        print(f'{x} is even.')\n",
    "    elif isinstance(x, float):\n",
    "        print(f'{x} is a float.')\n",
    "    else:\n",
    "        print(f'\"{x}\" is not a number.')\n",
    "        \n",
    "number_checker(1)\n",
    "number_checker(2)\n",
    "number_checker(2.5)\n",
    "number_checker(\"yay\")"
   ]
  },
  {
   "cell_type": "markdown",
   "metadata": {},
   "source": [
    "#### Exercise 2\n",
    "Starting with the list below, construct a `while` loop that returns the [Fibonacci numbers](https://en.wikipedia.org/wiki/Fibonacci_number) and terminates only when the most recent number is greater than 5000."
   ]
  },
  {
   "cell_type": "code",
   "execution_count": 16,
   "metadata": {},
   "outputs": [
    {
     "name": "stdout",
     "output_type": "stream",
     "text": [
      "[0, 1, 1, 2, 3, 5, 8, 13, 21, 34, 55, 89, 144, 233, 377, 610, 987, 1597, 2584, 4181, 6765]\n"
     ]
    }
   ],
   "source": [
    "## Initialize list.\n",
    "vals = [0,1]\n",
    "\n",
    "while vals[-1] <= 5000:\n",
    "    \n",
    "    ## Iteratively append sum of two most recent entries.\n",
    "    vals.append( vals[-2] + vals[-1] )\n",
    "    \n",
    "print(vals)"
   ]
  },
  {
   "cell_type": "markdown",
   "metadata": {},
   "source": [
    "#### Exercise 3\n",
    "Define a function that checks if an inputted integer is prime. Test your function on the following numbers: \n",
    ">1411, 1147, 2327, 2683, 33233\n",
    "\n",
    "Only one number above is not prime. \n",
    "\n",
    "As an added challenge, if the tested integer is not prime, have the function return a number the integer is divisible by."
   ]
  },
  {
   "cell_type": "markdown",
   "metadata": {},
   "source": [
    "##### Version 1"
   ]
  },
  {
   "cell_type": "code",
   "execution_count": 17,
   "metadata": {},
   "outputs": [
    {
     "name": "stdout",
     "output_type": "stream",
     "text": [
      "1411 is divisible by 17.\n",
      "1147 is divisible by 31.\n",
      "2327 is divisible by 13.\n",
      "2683 is prime!\n",
      "33233 is divisible by 167.\n"
     ]
    }
   ],
   "source": [
    "def is_prime(i):\n",
    "    \"\"\"Check if integer is prime.\"\"\"\n",
    "    \n",
    "    ## Error-catching.\n",
    "    assert isinstance(i, int)\n",
    "    \n",
    "    ## Define range of divisors. \n",
    "    divisors = range(2,i)\n",
    "    \n",
    "    ## Iterately compute remainders from division.\n",
    "    remainders = [True if i % d == 0 else False for d in divisors]\n",
    "    \n",
    "    ## Check for no remainder.\n",
    "    if any(remainders):\n",
    "        print('%s is divisible by %s.' %(i,divisors[remainders.index(True)]))\n",
    "    else:\n",
    "        print('%s is prime!' %i)\n",
    "\n",
    "## Test function.\n",
    "for i in [1411, 1147, 2327, 2683, 33233]:\n",
    "    is_prime(i)"
   ]
  },
  {
   "cell_type": "markdown",
   "metadata": {},
   "source": [
    "##### Version 2"
   ]
  },
  {
   "cell_type": "code",
   "execution_count": 18,
   "metadata": {},
   "outputs": [
    {
     "name": "stdout",
     "output_type": "stream",
     "text": [
      "1411 is divisible by 17.\n",
      "1147 is divisible by 31.\n",
      "2327 is divisible by 13.\n",
      "2683 is divisible by None.\n",
      "33233 is divisible by 167.\n"
     ]
    }
   ],
   "source": [
    "def is_prime(i):\n",
    "    \"\"\"Check if integer is prime.\"\"\"\n",
    "    \n",
    "    ## Error-catching.\n",
    "    assert isinstance(i, int)\n",
    "    \n",
    "    ## Initialize divisor.\n",
    "    d = 2\n",
    "    \n",
    "    ## Iteratively check for no remainder.\n",
    "    while d < i:\n",
    "        if i % d == 0:\n",
    "            return(d)\n",
    "        else:\n",
    "            d += 1\n",
    "    \n",
    "    return(None)\n",
    "\n",
    "## Test function.\n",
    "for i in [1411, 1147, 2327, 2683, 33233]:\n",
    "    print('%s is divisible by %s.' %(i,is_prime(i)))"
   ]
  },
  {
   "cell_type": "markdown",
   "metadata": {},
   "source": [
    "## Part 3: Basic NumPy Operations\n",
    "a) Generate an array of numbers 0-24. Reshape to a 5x5 matrix."
   ]
  },
  {
   "cell_type": "code",
   "execution_count": 19,
   "metadata": {},
   "outputs": [
    {
     "name": "stdout",
     "output_type": "stream",
     "text": [
      "[[ 0  1  2  3  4]\n",
      " [ 5  6  7  8  9]\n",
      " [10 11 12 13 14]\n",
      " [15 16 17 18 19]\n",
      " [20 21 22 23 24]]\n"
     ]
    }
   ],
   "source": [
    "import numpy as np\n",
    "\n",
    "mat = np.arange(25).reshape(5,5)\n",
    "print(mat)"
   ]
  },
  {
   "cell_type": "markdown",
   "metadata": {},
   "source": [
    "b) Extract the diagonal of this matrix."
   ]
  },
  {
   "cell_type": "code",
   "execution_count": 20,
   "metadata": {},
   "outputs": [
    {
     "name": "stdout",
     "output_type": "stream",
     "text": [
      "[ 0  6 12 18 24]\n"
     ]
    }
   ],
   "source": [
    "diag = np.diag(mat)\n",
    "print(diag)"
   ]
  },
  {
   "cell_type": "markdown",
   "metadata": {},
   "source": [
    "c) Multiply the matrix by an identity matrix of the same shape. Confirm that it is identical to the original. (Hint: Use `np.all` command to confirm all equal.)"
   ]
  },
  {
   "cell_type": "code",
   "execution_count": 21,
   "metadata": {},
   "outputs": [
    {
     "name": "stdout",
     "output_type": "stream",
     "text": [
      "True\n"
     ]
    }
   ],
   "source": [
    "## Construct identity matrix.\n",
    "identity = np.identity(5)\n",
    "\n",
    "## Matrix multiplication.\n",
    "mat2 = mat @ identity\n",
    "\n",
    "## Confirm all equal.\n",
    "print( np.all(mat == mat2) )"
   ]
  },
  {
   "cell_type": "markdown",
   "metadata": {},
   "source": [
    "d) Return the indices of the matrix where the elements are greater than 15."
   ]
  },
  {
   "cell_type": "code",
   "execution_count": 22,
   "metadata": {},
   "outputs": [
    {
     "name": "stdout",
     "output_type": "stream",
     "text": [
      "[3 3 3 3 4 4 4 4 4] [1 2 3 4 0 1 2 3 4]\n"
     ]
    }
   ],
   "source": [
    "i,j = np.where(mat > 15)\n",
    "print(i,j)"
   ]
  },
  {
   "cell_type": "markdown",
   "metadata": {},
   "source": [
    "e) Using `np.where`, set all elements of the matrix greater than 15 to 1, else 0.\n"
   ]
  },
  {
   "cell_type": "code",
   "execution_count": 23,
   "metadata": {},
   "outputs": [],
   "source": [
    "## Binarize matrix (v1).\n",
    "mat4 = (mat > 15).astype(int)\n",
    "\n",
    "## Binarize matrix (v2).\n",
    "mat4 = np.where(mat > 15, 1, 0)"
   ]
  },
  {
   "cell_type": "markdown",
   "metadata": {},
   "source": [
    "f) Set all elements of the matrix greater than 15 to 2, less than 5 to 1, else 0. (Hint: `np.where` can be passed as an input to `np.where`.)"
   ]
  },
  {
   "cell_type": "code",
   "execution_count": 24,
   "metadata": {},
   "outputs": [],
   "source": [
    "## Trinarize matrix.\n",
    "mat5 = np.where(mat > 15, 2, np.where(mat > 5, 1, 0))"
   ]
  },
  {
   "cell_type": "markdown",
   "metadata": {},
   "source": [
    "g) Define a demean function."
   ]
  },
  {
   "cell_type": "code",
   "execution_count": 25,
   "metadata": {},
   "outputs": [],
   "source": [
    "def demean(arr):\n",
    "    \"\"\"De-mean array.\"\"\"\n",
    "    return arr - np.mean(arr)"
   ]
  },
  {
   "cell_type": "markdown",
   "metadata": {},
   "source": [
    "h) Apply the demean function across each row of the matrix."
   ]
  },
  {
   "cell_type": "code",
   "execution_count": 26,
   "metadata": {},
   "outputs": [
    {
     "name": "stdout",
     "output_type": "stream",
     "text": [
      "[[-2. -1.  0.  1.  2.]\n",
      " [-2. -1.  0.  1.  2.]\n",
      " [-2. -1.  0.  1.  2.]\n",
      " [-2. -1.  0.  1.  2.]\n",
      " [-2. -1.  0.  1.  2.]]\n"
     ]
    }
   ],
   "source": [
    "## Demean each row.\n",
    "mat6 = np.apply_along_axis(demean, 1, mat)\n",
    "print(mat6)"
   ]
  },
  {
   "cell_type": "markdown",
   "metadata": {},
   "source": [
    "## Part 4: Example Dataset\n",
    "\n",
    "In this exercise, you will be using NumPy to manipulate and analyze simulated recording data. \n",
    "\n",
    "Imagine you have recorded the response of several neurons to some input stimuli. A week later, when you have to make a figure, you cannot remember exactly what you did. Luckily for you, you have the data and a description of each variable: \n",
    "\n",
    "| Variable  | Description |\n",
    "|:---------:|-------------------------------------------------------------------|\n",
    "| spikes  | Binary matrix, (n_trials, n_samples).<br>_1_ = spike was detected.<br>_0_ = no spike was detected. |\n",
    "| times   | The start time of each sample. |\n",
    "| neurons | An array denoting the neuron identity for a trial. |\n",
    "| stimuli | An array denoting the stimulus used for a trial. |\n",
    "| sfreq   | The sampling frequency of the recording. |\n",
    "\n",
    "Work on the exercises below. By the end, you should be able to answer some questions about this dataset."
   ]
  },
  {
   "cell_type": "code",
   "execution_count": 27,
   "metadata": {},
   "outputs": [],
   "source": [
    "## Load compressed file and extract data.\n",
    "npz = np.load('spikes.npz')    \n",
    "spikes = npz['spikes']               # Raw spike data.\n",
    "times  = np.round(npz['times'],3)    # Recording time info.\n",
    "neurons = npz['neurons']             # Neuron identifier\n",
    "stimuli = npz['stimuli']             # Stimulus identifier\n",
    "sfreq = float(npz['sfreq'])          # Sampling frequency"
   ]
  },
  {
   "cell_type": "markdown",
   "metadata": {},
   "source": [
    "#### Exercise 1: Interrogating the Data\n",
    "\n",
    "a) What is the shape of the raw spiking data? "
   ]
  },
  {
   "cell_type": "code",
   "execution_count": 28,
   "metadata": {},
   "outputs": [
    {
     "name": "stdout",
     "output_type": "stream",
     "text": [
      "Shape = (40, 7501)\n"
     ]
    }
   ],
   "source": [
    "print('Shape =', spikes.shape)"
   ]
  },
  {
   "cell_type": "markdown",
   "metadata": {},
   "source": [
    "b) How many trials are there per neuron?"
   ]
  },
  {
   "cell_type": "code",
   "execution_count": 29,
   "metadata": {},
   "outputs": [
    {
     "name": "stdout",
     "output_type": "stream",
     "text": [
      "Neurons = (array([1, 2]), array([20, 20]))\n"
     ]
    }
   ],
   "source": [
    "print('Neurons =', np.unique(neurons, return_counts=True))"
   ]
  },
  {
   "cell_type": "markdown",
   "metadata": {},
   "source": [
    "c) How many trials are there per stimulus?"
   ]
  },
  {
   "cell_type": "code",
   "execution_count": 30,
   "metadata": {},
   "outputs": [
    {
     "name": "stdout",
     "output_type": "stream",
     "text": [
      "Stimulus = (array([1, 2]), array([20, 20]))\n"
     ]
    }
   ],
   "source": [
    "print('Stimulus =', np.unique(stimuli, return_counts=True))"
   ]
  },
  {
   "cell_type": "markdown",
   "metadata": {},
   "source": [
    "d) How long is each trial of recording? (Hint: this dataset is stimulus-locked, meaning that 0 corresponds to the onset of the stimulus.)"
   ]
  },
  {
   "cell_type": "code",
   "execution_count": 31,
   "metadata": {},
   "outputs": [
    {
     "name": "stdout",
     "output_type": "stream",
     "text": [
      "Timing = -5.0 10.0 15.0\n"
     ]
    }
   ],
   "source": [
    "print('Timing =', times.min(), times.max(), times.max() - times.min())"
   ]
  },
  {
   "cell_type": "markdown",
   "metadata": {},
   "source": [
    "e) How long is each sample of recording? That is, what is the time step?"
   ]
  },
  {
   "cell_type": "code",
   "execution_count": 32,
   "metadata": {},
   "outputs": [
    {
     "name": "stdout",
     "output_type": "stream",
     "text": [
      "Time step = 0.002\n"
     ]
    }
   ],
   "source": [
    "print('Time step =', 1. / sfreq)"
   ]
  },
  {
   "cell_type": "markdown",
   "metadata": {},
   "source": [
    "#### Exercise 2: Averaging the Raw Data\n",
    "\n",
    "To get started, you want to eyeball the data and see if there are any noticeable differences between the spiking patterns of the neurons.\n",
    "\n",
    "a) For each unique neuron, compute the average number of spikes per time step and store the result in a new variable."
   ]
  },
  {
   "cell_type": "code",
   "execution_count": 33,
   "metadata": {},
   "outputs": [],
   "source": [
    "spikes_A = spikes[neurons==1].mean(axis=0)\n",
    "spikes_B = spikes[neurons==2].mean(axis=0)"
   ]
  },
  {
   "cell_type": "markdown",
   "metadata": {},
   "source": [
    "b) Using the starter code below, plot each of the raw traces. (Don't worry much about the plotting syntax. We'll talk more about visualization next week.) "
   ]
  },
  {
   "cell_type": "code",
   "execution_count": 34,
   "metadata": {},
   "outputs": [
    {
     "data": {
      "image/png": "[encoded data removed]",
      "text/plain": [
       "<Figure size 864x288 with 1 Axes>"
      ]
     },
     "metadata": {
      "needs_background": "light"
     },
     "output_type": "display_data"
    }
   ],
   "source": [
    "import matplotlib.pyplot as plt\n",
    "%matplotlib inline\n",
    "\n",
    "## Initialize canvas.\n",
    "fig, ax = plt.subplots(1,1,figsize=(12,4))\n",
    "\n",
    "## Insert the averaged timeseries below. \n",
    "ax.plot(times, spikes_A, color='blue')\n",
    "ax.plot(times, spikes_B, color='orange')\n",
    "ax.set(xlim=(times.min(), times.max()))\n",
    "\n",
    "plt.tight_layout()"
   ]
  },
  {
   "cell_type": "markdown",
   "metadata": {},
   "source": [
    "c) Based on the plot above, what can you infer? Are the data messy? Does it look like there is a difference in spike counts between the neurons?"
   ]
  },
  {
   "cell_type": "markdown",
   "metadata": {},
   "source": [
    "#### Exercise 3: Binning the Spike Data\n",
    "\n",
    "To get a more reliable estimate of spiking activity, neuroscientists often bin spike count data in order to measure the number of spikes per some time bin. Over the following steps, you will compute for each trial the spike count per **100ms time bin.**\n",
    "\n",
    "a) How many 100ms bins will fit the length of each trial? How many samples will go into each bin?"
   ]
  },
  {
   "cell_type": "code",
   "execution_count": 35,
   "metadata": {},
   "outputs": [
    {
     "name": "stdout",
     "output_type": "stream",
     "text": [
      "150\n",
      "50\n"
     ]
    }
   ],
   "source": [
    "bin_length = 0.1 # seconds\n",
    "n_bins = int((times.max() - times.min()) / 0.1)\n",
    "n_samp = int(0.1 * sfreq)\n",
    "\n",
    "print(n_bins)\n",
    "print(n_samp)"
   ]
  },
  {
   "cell_type": "markdown",
   "metadata": {},
   "source": [
    "b) Make a new variable, `counts`, that is an empty NumPy matrix (e.g. a matrix of zeros). The matrix should be shape (n_trials, n_bins). We will eventually store the binned spike counts in this variable."
   ]
  },
  {
   "cell_type": "code",
   "execution_count": 36,
   "metadata": {},
   "outputs": [],
   "source": [
    "counts = np.zeros((spikes.shape[0], n_bins))"
   ]
  },
  {
   "cell_type": "markdown",
   "metadata": {},
   "source": [
    "c) Make a new variable, `bin_starts`, that contains the start time of each bin (i.e. -5.0, -4.9, -4.8, ..., 9.9). The final array should be shape, (n_bins).\n",
    "\n",
    "(Hint: at least two of the array generating functions discussed earlier can do this.)"
   ]
  },
  {
   "cell_type": "code",
   "execution_count": 37,
   "metadata": {},
   "outputs": [],
   "source": [
    "bin_starts = np.arange(-5, 10, 0.1)"
   ]
  },
  {
   "cell_type": "markdown",
   "metadata": {},
   "source": [
    "d) Now comes the hard part. Here we will write a for loop that will iteratively count the number of spikes in each bin for all trials.\n",
    "\n",
    "To get you started, the following is some pseudo-code for how you might solve the problem. However, feel free to ignore if you have your own solution!\n",
    "\n",
    "- **Top-level:** `for` loop iterating over the _start_ of each time bin and its corresponding index. (Hint: which `for` loop function passes both the member of a list and its index?)\n",
    "    - _Step 1:_ Find the indices of the time points in `times` which belong to the current bin. (Hint: Google `np.logical_and`.)\n",
    "    - _Step 2:_ Index into _spikes_ using the indices found in Step 1. Sum within each trial.\n",
    "    - _Step 3:_ Store the resulting array from Step 2 in the corresponding column of `counts`."
   ]
  },
  {
   "cell_type": "code",
   "execution_count": 38,
   "metadata": {},
   "outputs": [],
   "source": [
    "for i, tmin in enumerate(bin_starts):\n",
    "    \n",
    "    ## Step 1: Define indices.\n",
    "    ix = np.logical_and(times >= tmin, times < tmin + 0.1)\n",
    "    \n",
    "    ## Step 2: Compute counts.\n",
    "    sums = spikes[:,ix].sum(axis=1)\n",
    "    \n",
    "    ## Step 3: Store counts.\n",
    "    counts[:,i] = sums"
   ]
  },
  {
   "cell_type": "markdown",
   "metadata": {},
   "source": [
    "#### Exercise 4: Averaging the Count Data"
   ]
  },
  {
   "cell_type": "markdown",
   "metadata": {},
   "source": [
    "a) For each unique neuron, compute the average (mean) spike count per time bin and store the result in a new variable."
   ]
  },
  {
   "cell_type": "code",
   "execution_count": 39,
   "metadata": {},
   "outputs": [],
   "source": [
    "counts_A = counts[neurons==1].mean(axis=0)\n",
    "counts_B = counts[neurons==2].mean(axis=0)"
   ]
  },
  {
   "cell_type": "markdown",
   "metadata": {},
   "source": [
    "b) Using the starter code below, plot each of the rate traces. "
   ]
  },
  {
   "cell_type": "code",
   "execution_count": 40,
   "metadata": {},
   "outputs": [
    {
     "data": {
      "image/png": "[encoded data removed]",
      "text/plain": [
       "<Figure size 864x288 with 1 Axes>"
      ]
     },
     "metadata": {
      "needs_background": "light"
     },
     "output_type": "display_data"
    }
   ],
   "source": [
    "import matplotlib.pyplot as plt\n",
    "%matplotlib inline\n",
    "\n",
    "## Initialize canvas.\n",
    "fig, ax = plt.subplots(1,1,figsize=(12,4))\n",
    "\n",
    "## Insert the timeseries here.\n",
    "ax.plot(bin_starts, counts_A, color='blue')\n",
    "ax.plot(bin_starts, counts_B, color='orange')\n",
    "ax.set(xlim=(times.min(), times.max()))\n",
    "\n",
    "plt.tight_layout()"
   ]
  },
  {
   "cell_type": "markdown",
   "metadata": {},
   "source": [
    "c) Based on the plot above, what can you infer? Are the data cleaner? Does this change your interpretation from earlier?"
   ]
  },
  {
   "cell_type": "markdown",
   "metadata": {},
   "source": [
    "#### Exercise 5: Lazy Data Analysis\n",
    "\n",
    "a) If we want to know whether a neuron is more sensitive to a stimulus, or just more active overall, a good test is to measure the spike counts during some baseline period.\n",
    "\n",
    "For each neuron, compute the average spike count in the pre-stimulus period, [-5s - 0s]. Is one neuron more active than the other overall?"
   ]
  },
  {
   "cell_type": "code",
   "execution_count": 41,
   "metadata": {},
   "outputs": [
    {
     "name": "stdout",
     "output_type": "stream",
     "text": [
      "4.777450980392157\n",
      "10.247058823529414\n"
     ]
    }
   ],
   "source": [
    "print(counts_A[bin_starts < 0].mean())\n",
    "print(counts_B[bin_starts < 0].mean())"
   ]
  },
  {
   "cell_type": "markdown",
   "metadata": {},
   "source": [
    "b) Find the bin at which spike counts peak for each neuron. (Hint: Google `np.argmax`.)"
   ]
  },
  {
   "cell_type": "code",
   "execution_count": 42,
   "metadata": {},
   "outputs": [
    {
     "name": "stdout",
     "output_type": "stream",
     "text": [
      "3.0999999999999712\n",
      "6.099999999999961\n"
     ]
    }
   ],
   "source": [
    "print(bin_starts[np.argmax(counts_A)])\n",
    "print(bin_starts[np.argmax(counts_B)])"
   ]
  },
  {
   "cell_type": "markdown",
   "metadata": {},
   "source": [
    "c) The recordings above actually used to two stimuli. Compute and plot the spike rate per neuron and stimulus. Copy the visualzation code above and plot. (A list of additional Matplotlib colors can be found [here](https://matplotlib.org/2.0.2/api/colors_api.html).)"
   ]
  },
  {
   "cell_type": "code",
   "execution_count": 43,
   "metadata": {},
   "outputs": [
    {
     "data": {
      "image/png": "[encoded data removed]",
      "text/plain": [
       "<Figure size 864x288 with 1 Axes>"
      ]
     },
     "metadata": {
      "needs_background": "light"
     },
     "output_type": "display_data"
    }
   ],
   "source": [
    "## Compute rates.\n",
    "counts_A1 = counts[np.logical_and(neurons==1, stimuli==1)].mean(axis=0)\n",
    "counts_A2 = counts[np.logical_and(neurons==1, stimuli==2)].mean(axis=0)\n",
    "counts_B1 = counts[np.logical_and(neurons==2, stimuli==1)].mean(axis=0)\n",
    "counts_B2 = counts[np.logical_and(neurons==2, stimuli==2)].mean(axis=0)\n",
    "\n",
    "## Initialize canvas.\n",
    "fig, ax = plt.subplots(1,1,figsize=(12,4))\n",
    "\n",
    "## Insert the timeseries here.\n",
    "ax.plot(bin_starts, counts_A1, color='blue')\n",
    "ax.plot(bin_starts, counts_A2, color='cyan')\n",
    "ax.plot(bin_starts, counts_B1, color='orange')\n",
    "ax.plot(bin_starts, counts_B2, color='red')\n",
    "ax.set(xlim=(times.min(), times.max()))\n",
    "\n",
    "plt.tight_layout()"
   ]
  },
  {
   "cell_type": "markdown",
   "metadata": {},
   "source": [
    "d) Does it look like there's a difference between the stimuli?"
   ]
  }
 ],
 "metadata": {
  "kernelspec": {
   "display_name": "Python 3",
   "language": "python",
   "name": "python3"
  },
  "language_info": {
   "codemirror_mode": {
    "name": "ipython",
    "version": 3
   },
   "file_extension": ".py",
   "mimetype": "text/x-python",
   "name": "python",
   "nbconvert_exporter": "python",
   "pygments_lexer": "ipython3",
   "version": "3.7.4"
  },
  "toc": {
   "colors": {
    "hover_highlight": "#DAA520",
    "navigate_num": "#000000",
    "navigate_text": "#333333",
    "running_highlight": "#FF0000",
    "selected_highlight": "#FFD700",
    "sidebar_border": "#EEEEEE",
    "wrapper_background": "#FFFFFF"
   },
   "moveMenuLeft": true,
   "nav_menu": {
    "height": "315px",
    "width": "252px"
   },
   "navigate_menu": true,
   "number_sections": false,
   "sideBar": true,
   "threshold": 4,
   "toc_cell": false,
   "toc_section_display": "block",
   "toc_window_display": false,
   "widenNotebook": false
  }
 },
 "nbformat": 4,
 "nbformat_minor": 4
}
