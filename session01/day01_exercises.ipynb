{
 "cells": [
  {
   "cell_type": "markdown",
   "metadata": {},
   "source": [
    "# Session 1 Exercises\n",
    "\n",
    "## Part 1: Spike Counts\n",
    "\n",
    "Imagine you've just finished recording from a V1 neuron. Across 60 experimental trials, you presented either a vertical or horizontal Gabor patch (30 each) and recorded the corresponding number of spikes (counts below). Now you want to ask some questions of your data."
   ]
  },
  {
   "cell_type": "code",
   "execution_count": null,
   "metadata": {},
   "outputs": [],
   "source": [
    "## Spike counts: vertical Gabor patch.\n",
    "spikes_v = [39, 36, 38, 32, 28, 33, 28, 29, 30, 31, 22, 37, 26, 22, 37, \n",
    "            34, 26, 30, 32, 34, 30, 26, 30, 26, 32, 30, 28, 21, 35, 41]\n",
    "\n",
    "## Spike counts: horizontal Gabor patch.\n",
    "spikes_h = [28, 19, 15, 19, 25, 27, 19, 19, 28, 18, 19, 24, 14, 24, 16, \n",
    "            11, 24, 16, 21, 22, 18, 24, 24, 20, 15, 26, 20, 17, 21, 26]"
   ]
  },
  {
   "cell_type": "markdown",
   "metadata": {},
   "source": [
    "#### Exercise 1: Indexing\n",
    "\n",
    "a) Return the spike count corresponding to the 17th presentation of the vertical stimulus."
   ]
  },
  {
   "cell_type": "code",
   "execution_count": null,
   "metadata": {},
   "outputs": [],
   "source": []
  },
  {
   "cell_type": "markdown",
   "metadata": {},
   "source": [
    "b) Return the spike count corresponding to the fifth-from-last presentation of the horizontal stimulus."
   ]
  },
  {
   "cell_type": "code",
   "execution_count": null,
   "metadata": {},
   "outputs": [],
   "source": []
  },
  {
   "cell_type": "markdown",
   "metadata": {},
   "source": [
    "c) Return the spike counts from every fourth presentation of the horizontal stimulus. "
   ]
  },
  {
   "cell_type": "code",
   "execution_count": null,
   "metadata": {},
   "outputs": [],
   "source": []
  },
  {
   "cell_type": "markdown",
   "metadata": {},
   "source": [
    "d) Return spike count corresponding to the 3rd, 8th, and 10th-from-last presentaiton of the vertical stimulus. (Hint: use list comprehensions.)"
   ]
  },
  {
   "cell_type": "code",
   "execution_count": null,
   "metadata": {},
   "outputs": [],
   "source": []
  },
  {
   "cell_type": "markdown",
   "metadata": {},
   "source": [
    "e) Return the 2nd largest recorded spike count in response to the vertical stimulus. (Hint: use the `sort` function.)"
   ]
  },
  {
   "cell_type": "code",
   "execution_count": null,
   "metadata": {},
   "outputs": [],
   "source": []
  },
  {
   "cell_type": "markdown",
   "metadata": {},
   "source": [
    "#### Exercise 2: Built-in Functions\n",
    "\n",
    "a) Compute and store in separate variables the max spike count from each stimulus condition. Then, using an `if/else` statement, write some code which prints out which condition had the larger max count."
   ]
  },
  {
   "cell_type": "code",
   "execution_count": null,
   "metadata": {},
   "outputs": [],
   "source": []
  },
  {
   "cell_type": "markdown",
   "metadata": {},
   "source": [
    "b) Compute and store in separate variables the total spike counts from each stimulus condition. Then, using an `if/else` statement, write some code which prints out which condition had the smaller total count."
   ]
  },
  {
   "cell_type": "code",
   "execution_count": null,
   "metadata": {},
   "outputs": [],
   "source": []
  },
  {
   "cell_type": "markdown",
   "metadata": {},
   "source": [
    "#### Exercise 3: Basic Scripting\n",
    "a) Create a new copy of each list that now contains spikes counts greater than or equal to 25. How many counts are now in each list?"
   ]
  },
  {
   "cell_type": "code",
   "execution_count": null,
   "metadata": {},
   "outputs": [],
   "source": []
  },
  {
   "cell_type": "markdown",
   "metadata": {},
   "source": [
    "b) Using a for loop, create new list containing only the intersection of the two lists (i.e. containing only spike counts present in both lists."
   ]
  },
  {
   "cell_type": "code",
   "execution_count": null,
   "metadata": {},
   "outputs": [],
   "source": []
  },
  {
   "cell_type": "markdown",
   "metadata": {},
   "source": [
    "c) Do the same as above, now only using list comprehensions."
   ]
  },
  {
   "cell_type": "code",
   "execution_count": null,
   "metadata": {},
   "outputs": [],
   "source": []
  },
  {
   "cell_type": "markdown",
   "metadata": {},
   "source": [
    "#### Exercise 4: Custom Functions\n",
    "a) Copy the **mean** function from today's lecture. Which condition shows the greater number of spikes on average? "
   ]
  },
  {
   "cell_type": "code",
   "execution_count": null,
   "metadata": {},
   "outputs": [],
   "source": []
  },
  {
   "cell_type": "markdown",
   "metadata": {},
   "source": [
    "b) Write a function that computes the **median** of a list. Which condition shows the greater median number of spikes?"
   ]
  },
  {
   "cell_type": "code",
   "execution_count": null,
   "metadata": {},
   "outputs": [],
   "source": []
  },
  {
   "cell_type": "markdown",
   "metadata": {},
   "source": [
    "c) Write a function that computes the **standard deviation** of a list. Which condition shows the greater standard deviation in the number of spikes? As a reminder, the formula for the standard deviation is:\n",
    "\n",
    "$$ s = \\sqrt{\\frac{1}{N-1} \\sum_{i=1}^N (x_i - \\bar{x})^2 }$$ "
   ]
  },
  {
   "cell_type": "code",
   "execution_count": null,
   "metadata": {},
   "outputs": [],
   "source": []
  },
  {
   "cell_type": "markdown",
   "metadata": {},
   "source": [
    "## Part 2: Challenges"
   ]
  },
  {
   "cell_type": "markdown",
   "metadata": {},
   "source": [
    "#### Exercise 1\n",
    "\n",
    "Write a function that checks if the inputted argument is even, odd, a float, or not a number (NaN)."
   ]
  },
  {
   "cell_type": "code",
   "execution_count": null,
   "metadata": {},
   "outputs": [],
   "source": []
  },
  {
   "cell_type": "markdown",
   "metadata": {},
   "source": [
    "#### Exercise 2\n",
    "Starting with the list below, construct a `while` loop that returns the [Fibonacci numbers](https://en.wikipedia.org/wiki/Fibonacci_number) and terminates only when the most recent number is greater than 5000."
   ]
  },
  {
   "cell_type": "code",
   "execution_count": null,
   "metadata": {},
   "outputs": [],
   "source": []
  },
  {
   "cell_type": "markdown",
   "metadata": {},
   "source": [
    "#### Exercise 3\n",
    "Define a function that checks if an inputted integer is prime. Test your function on the following numbers: \n",
    ">1411, 1147, 2327, 2683, 33233\n",
    "\n",
    "Only one number above is not prime. \n",
    "\n",
    "As an added challenge, if the tested integer is not prime, have the function return a number the integer is divisible by."
   ]
  },
  {
   "cell_type": "code",
   "execution_count": null,
   "metadata": {},
   "outputs": [],
   "source": []
  },
  {
   "cell_type": "markdown",
   "metadata": {},
   "source": [
    "## Part 3: Basic NumPy Operations\n",
    "a) Generate an array of numbers 0-24. Reshape to a 5x5 matrix."
   ]
  },
  {
   "cell_type": "code",
   "execution_count": null,
   "metadata": {},
   "outputs": [],
   "source": []
  },
  {
   "cell_type": "markdown",
   "metadata": {},
   "source": [
    "b) Extract the diagonal of this matrix."
   ]
  },
  {
   "cell_type": "code",
   "execution_count": null,
   "metadata": {},
   "outputs": [],
   "source": []
  },
  {
   "cell_type": "markdown",
   "metadata": {},
   "source": [
    "c) Multiply the matrix by an identity matrix of the same shape. Confirm that it is identical to the original.\n",
    "\n",
    "Hint: Use `np.all` command to confirm all equal. "
   ]
  },
  {
   "cell_type": "code",
   "execution_count": null,
   "metadata": {},
   "outputs": [],
   "source": []
  },
  {
   "cell_type": "markdown",
   "metadata": {},
   "source": [
    "d) Return the indices of the matrix where the elements are greater than 15."
   ]
  },
  {
   "cell_type": "code",
   "execution_count": null,
   "metadata": {},
   "outputs": [],
   "source": []
  },
  {
   "cell_type": "markdown",
   "metadata": {},
   "source": [
    "e) Using `np.where`, set all elements of the matrix greater than 15 to 1, else 0.\n"
   ]
  },
  {
   "cell_type": "code",
   "execution_count": null,
   "metadata": {},
   "outputs": [],
   "source": []
  },
  {
   "cell_type": "markdown",
   "metadata": {},
   "source": [
    "f) Set all elements of the matrix greater than 15 to 2, less than 5 to 1, else 0.\n",
    "\n",
    "Hint: `np.where` can be passed as an input to `np.where`."
   ]
  },
  {
   "cell_type": "code",
   "execution_count": null,
   "metadata": {},
   "outputs": [],
   "source": []
  },
  {
   "cell_type": "markdown",
   "metadata": {},
   "source": [
    "g) Define a demean function."
   ]
  },
  {
   "cell_type": "code",
   "execution_count": null,
   "metadata": {},
   "outputs": [],
   "source": []
  },
  {
   "cell_type": "markdown",
   "metadata": {},
   "source": [
    "h) Apply the demean function across each row of the matrix."
   ]
  },
  {
   "cell_type": "code",
   "execution_count": null,
   "metadata": {},
   "outputs": [],
   "source": []
  },
  {
   "cell_type": "markdown",
   "metadata": {},
   "source": [
    "## Part 4: Example Dataset\n",
    "\n",
    "In this exercise, you will be using NumPy to manipulate and analyze simulated recording data. \n",
    "\n",
    "Imagine you have recorded the response of several neurons to some input stimuli. A week later, when you have to make a figure, you cannot remember exactly what you did. Luckily for you, you have the data and a description of each variable: \n",
    "\n",
    "| Variable  | Description |\n",
    "|:---------:|-------------------------------------------------------------------|\n",
    "| spikes  | Binary matrix, (n_trials, n_samples).<br>_1_ = spike was detected.<br>_0_ = no spike was detected. |\n",
    "| times   | The start time of each sample. |\n",
    "| neurons | An array denoting the neuron identity for a trial. |\n",
    "| stimuli | An array denoting the stimulus used for a trial. |\n",
    "| sfreq   | The sampling frequency of the recording. |\n",
    "\n",
    "Work on the exercises below. By the end, you should be able to answer some questions about this dataset."
   ]
  },
  {
   "cell_type": "code",
   "execution_count": null,
   "metadata": {},
   "outputs": [],
   "source": [
    "import numpy as np\n",
    "\n",
    "## Load compressed file and extract data.\n",
    "npz = np.load('spikes.npz')    \n",
    "spikes = npz['spikes']               # Raw spike data.\n",
    "times  = np.round(npz['times'],3)    # Recording time info.\n",
    "neurons = npz['neurons']             # Neuron identifier\n",
    "stimuli = npz['stimuli']             # Stimulus identifier\n",
    "sfreq = float(npz['sfreq'])          # Sampling frequency"
   ]
  },
  {
   "cell_type": "markdown",
   "metadata": {},
   "source": [
    "#### Exercise 1: Interrogating the Data\n",
    "\n",
    "a) What is the shape of the raw spiking data? "
   ]
  },
  {
   "cell_type": "code",
   "execution_count": null,
   "metadata": {},
   "outputs": [],
   "source": []
  },
  {
   "cell_type": "markdown",
   "metadata": {},
   "source": [
    "b) How many trials are there per neuron?"
   ]
  },
  {
   "cell_type": "code",
   "execution_count": null,
   "metadata": {},
   "outputs": [],
   "source": []
  },
  {
   "cell_type": "markdown",
   "metadata": {},
   "source": [
    "c) How many trials are there per stimulus?"
   ]
  },
  {
   "cell_type": "code",
   "execution_count": null,
   "metadata": {},
   "outputs": [],
   "source": []
  },
  {
   "cell_type": "markdown",
   "metadata": {},
   "source": [
    "d) How long is each trial of recording? (Hint: this dataset is stimulus-locked, meaning that 0 corresponds to the onset of the stimulus.)"
   ]
  },
  {
   "cell_type": "code",
   "execution_count": null,
   "metadata": {},
   "outputs": [],
   "source": []
  },
  {
   "cell_type": "markdown",
   "metadata": {},
   "source": [
    "e) How long is each sample of recording? That is, what is the time step?"
   ]
  },
  {
   "cell_type": "code",
   "execution_count": null,
   "metadata": {},
   "outputs": [],
   "source": []
  },
  {
   "cell_type": "markdown",
   "metadata": {},
   "source": [
    "#### Exercise 2: Averaging the Raw Data\n",
    "\n",
    "To get started, you want to eyeball the data and see if there are any noticeable differences between the spiking patterns of the neurons.\n",
    "\n",
    "a) For each unique neuron, compute the average number of spikes per time step and store the result in a new variable."
   ]
  },
  {
   "cell_type": "code",
   "execution_count": null,
   "metadata": {},
   "outputs": [],
   "source": []
  },
  {
   "cell_type": "markdown",
   "metadata": {},
   "source": [
    "b) Using the starter code below, plot each of the raw traces. (Don't worry much about the plotting syntax. We'll talk more about visualization next week.) "
   ]
  },
  {
   "cell_type": "code",
   "execution_count": null,
   "metadata": {},
   "outputs": [],
   "source": [
    "import matplotlib.pyplot as plt\n",
    "%matplotlib inline\n",
    "\n",
    "## Initialize canvas.\n",
    "fig, ax = plt.subplots(1,1,figsize=(12,4))\n",
    "\n",
    "## Insert the averaged timeseries below. \n",
    "ax.plot(times, _NEURON_A_AVG_HERE_, color='blue')\n",
    "ax.plot(times, _NEURON_B_AVG_HERE_, color='orange')\n",
    "ax.set(xlim=(times.min(), times.max()))\n",
    "\n",
    "plt.tight_layout()"
   ]
  },
  {
   "cell_type": "markdown",
   "metadata": {},
   "source": [
    "c) Based on the plot above, what can you infer? Are the data messy? Does it look like there is a difference in spike counts between the neurons?"
   ]
  },
  {
   "cell_type": "markdown",
   "metadata": {},
   "source": [
    "#### Exercise 3: Binning the Spike Data\n",
    "\n",
    "To get a more reliable estimate of spiking activity, neuroscientists often bin spike count data in order to measure the number of spikes per some time bin. Over the following steps, you will compute for each trial the spike count per **100ms time bin.**\n",
    "\n",
    "a) How many 100ms bins will fit the length of each trial? How many samples will go into each bin?"
   ]
  },
  {
   "cell_type": "code",
   "execution_count": null,
   "metadata": {},
   "outputs": [],
   "source": []
  },
  {
   "cell_type": "markdown",
   "metadata": {},
   "source": [
    "b) Make a new variable, `counts`, that is an empty NumPy matrix (e.g. a matrix of zeros). The matrix should be shape (n_trials, n_bins). We will eventually store the binned spike counts in this variable."
   ]
  },
  {
   "cell_type": "code",
   "execution_count": null,
   "metadata": {},
   "outputs": [],
   "source": []
  },
  {
   "cell_type": "markdown",
   "metadata": {},
   "source": [
    "c) Make a new variable, `bin_starts`, that contains the start time of each bin (i.e. -5.0, -4.9, -4.8, ..., 9.9). The final array should be shape, (n_bins).\n",
    "\n",
    "(Hint: at least two of the array generating functions discussed earlier can do this.)"
   ]
  },
  {
   "cell_type": "code",
   "execution_count": null,
   "metadata": {},
   "outputs": [],
   "source": []
  },
  {
   "cell_type": "markdown",
   "metadata": {},
   "source": [
    "d) Now comes the hard part. Here we will write a for loop that will iteratively count the number of spikes in each bin for all trials.\n",
    "\n",
    "To get you started, the following is some pseudo-code for how you might solve the problem. However, feel free to ignore if you have your own solution!\n",
    "\n",
    "- **Top-level:** `for` loop iterating over the _start_ of each time bin and its corresponding index. (Hint: which `for` loop function passes both the member of a list and its index?)\n",
    "    - _Step 1:_ Find the indices of the time points in `times` which belong to the current bin. (Hint: Google `np.logical_and`.)\n",
    "    - _Step 2:_ Index into _spikes_ using the indices found in Step 1. Sum within each trial.\n",
    "    - _Step 3:_ Store the resulting array from Step 2 in the corresponding column of `counts`."
   ]
  },
  {
   "cell_type": "code",
   "execution_count": null,
   "metadata": {},
   "outputs": [],
   "source": []
  },
  {
   "cell_type": "markdown",
   "metadata": {},
   "source": [
    "#### Exercise 4: Averaging the Count Data"
   ]
  },
  {
   "cell_type": "markdown",
   "metadata": {},
   "source": [
    "a) For each unique neuron, compute the average (mean) spike count per time bin and store the result in a new variable."
   ]
  },
  {
   "cell_type": "code",
   "execution_count": null,
   "metadata": {},
   "outputs": [],
   "source": []
  },
  {
   "cell_type": "markdown",
   "metadata": {},
   "source": [
    "b) Using the starter code below, plot each of the rate traces. "
   ]
  },
  {
   "cell_type": "code",
   "execution_count": null,
   "metadata": {},
   "outputs": [],
   "source": [
    "import matplotlib.pyplot as plt\n",
    "%matplotlib inline\n",
    "\n",
    "## Initialize canvas.\n",
    "fig, ax = plt.subplots(1,1,figsize=(12,4))\n",
    "\n",
    "## Insert the timeseries here.\n",
    "ax.plot(bin_starts, _NEURON_A_COUNTS_HERE_, color='blue')\n",
    "ax.plot(bin_starts, _NEURON_B_COUNTS_HERE_, color='orange')\n",
    "ax.set(xlim=(times.min(), times.max()))\n",
    "\n",
    "plt.tight_layout()"
   ]
  },
  {
   "cell_type": "markdown",
   "metadata": {},
   "source": [
    "c) Based on the plot above, what can you infer? Are the data cleaner? Does this change your interpretation from earlier?"
   ]
  },
  {
   "cell_type": "markdown",
   "metadata": {},
   "source": [
    "#### Exercise 5: Lazy Data Analysis\n",
    "\n",
    "a) If we want to know whether a neuron is more sensitive to a stimulus, or just more active overall, a good test is to measure the spike counts during some baseline period.\n",
    "\n",
    "For each neuron, compute the average spike count in the pre-stimulus period, [-5s - 0s]. Is one neuron more active than the other overall?"
   ]
  },
  {
   "cell_type": "code",
   "execution_count": null,
   "metadata": {},
   "outputs": [],
   "source": []
  },
  {
   "cell_type": "markdown",
   "metadata": {},
   "source": [
    "b) Find the bin at which spike counts peak for each neuron. (Hint: Google `np.argmax`.)"
   ]
  },
  {
   "cell_type": "code",
   "execution_count": null,
   "metadata": {},
   "outputs": [],
   "source": []
  },
  {
   "cell_type": "markdown",
   "metadata": {},
   "source": [
    "c) The recordings above actually used to two stimuli. Compute and plot the spike rate per neuron and stimulus. Copy the visualzation code above and plot. (A list of additional Matplotlib colors can be found [here](https://matplotlib.org/2.0.2/api/colors_api.html).)"
   ]
  },
  {
   "cell_type": "code",
   "execution_count": null,
   "metadata": {},
   "outputs": [],
   "source": []
  },
  {
   "cell_type": "markdown",
   "metadata": {},
   "source": [
    "d) Does it look like there's a difference between the stimuli?"
   ]
  }
 ],
 "metadata": {
  "kernelspec": {
   "display_name": "Python 3",
   "language": "python",
   "name": "python3"
  },
  "language_info": {
   "codemirror_mode": {
    "name": "ipython",
    "version": 3
   },
   "file_extension": ".py",
   "mimetype": "text/x-python",
   "name": "python",
   "nbconvert_exporter": "python",
   "pygments_lexer": "ipython3",
   "version": "3.7.4"
  },
  "toc": {
   "colors": {
    "hover_highlight": "#DAA520",
    "navigate_num": "#000000",
    "navigate_text": "#333333",
    "running_highlight": "#FF0000",
    "selected_highlight": "#FFD700",
    "sidebar_border": "#EEEEEE",
    "wrapper_background": "#FFFFFF"
   },
   "moveMenuLeft": true,
   "nav_menu": {
    "height": "315px",
    "width": "252px"
   },
   "navigate_menu": true,
   "number_sections": false,
   "sideBar": true,
   "threshold": 4,
   "toc_cell": false,
   "toc_section_display": "block",
   "toc_window_display": false,
   "widenNotebook": false
  }
 },
 "nbformat": 4,
 "nbformat_minor": 4
}
